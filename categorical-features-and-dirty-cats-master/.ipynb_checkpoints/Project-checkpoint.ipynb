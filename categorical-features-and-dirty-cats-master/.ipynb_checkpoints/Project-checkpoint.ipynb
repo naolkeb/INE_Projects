{
 "cells": [
  {
   "cell_type": "markdown",
   "metadata": {},
   "source": [
    "![ine-divider](https://user-images.githubusercontent.com/7065401/92672068-398e8080-f2ee-11ea-82d6-ad53f7feb5c0.png)\n",
    "<hr>\n",
    "\n",
    "# Feature Engineering\n",
    "\n",
    "## Categorical features and dirty cats\n",
    "\n",
    "In this project, you will be working with dirty cats again to practice all the techniques you learned on previous lessons.  \n",
    "\n",
    "**Remember**: it's important to always learn from your training data and transform your test data.  Let's gain some practice applying feature engineering to train and test sets."
   ]
  },
  {
   "cell_type": "code",
   "execution_count": null,
   "metadata": {},
   "outputs": [],
   "source": [
    "# Import necessary packages\n",
    "import numpy as np\n",
    "import pandas as pd"
   ]
  },
  {
   "cell_type": "code",
   "execution_count": null,
   "metadata": {},
   "outputs": [],
   "source": [
    "# Read in dirty_cats.csv\n"
   ]
  },
  {
   "cell_type": "markdown",
   "metadata": {},
   "source": [
    "![orange-divider](https://user-images.githubusercontent.com/7065401/98619088-44ab6000-22e1-11eb-8f6d-5532e68ab274.png)\n",
    "\n",
    "## How do we get dummies from our train set and apply them to our test set?"
   ]
  },
  {
   "cell_type": "code",
   "execution_count": null,
   "metadata": {},
   "outputs": [],
   "source": [
    "# Let's work with our nom_0 column again\n",
    "# Get dummies for nom_0\n"
   ]
  },
  {
   "cell_type": "code",
   "execution_count": null,
   "metadata": {},
   "outputs": [],
   "source": [
    "# Check out the dummy columns\n"
   ]
  },
  {
   "cell_type": "markdown",
   "metadata": {},
   "source": [
    "---\n",
    "### nom_0 has 3 categories: Green, Blue and Red\n",
    "But, the dummies (because we dropped a column) only has 2 of the 3.\n",
    "\n",
    "> How do we make sure our test dummies has the same 2 out of 3 columns?"
   ]
  },
  {
   "cell_type": "code",
   "execution_count": null,
   "metadata": {},
   "outputs": [],
   "source": [
    "# Split the data into train and test\n",
    "# There's no target in this toy dataset.  We can just split the data randomly\n",
    "# Select 80% of the data randomly for train\n",
    "msk = np.random.rand(len(df_dirty)) < 0.8\n",
    "# Pull the train data out\n",
    "df_train = df_dirty[msk].copy()\n",
    "# Pull the test data out\n",
    "df_test = df_dirty[~msk].copy()"
   ]
  },
  {
   "cell_type": "code",
   "execution_count": null,
   "metadata": {},
   "outputs": [],
   "source": [
    "# Learn our dummy columns from our train data\n",
    "# Use pd.get_dummies to get dummy columns for train data\n",
    "\n",
    "# Save the columns from the dummy data frame as a list\n",
    "train_dummies = #fill in your code here"
   ]
  },
  {
   "cell_type": "markdown",
   "metadata": {},
   "source": [
    "![orange-divider](https://user-images.githubusercontent.com/7065401/98619088-44ab6000-22e1-11eb-8f6d-5532e68ab274.png)\n",
    "\n",
    "## Checking dummy columns\n",
    "\n",
    "There are 2 things you need to check for when applying what you learned about dummies in train to the test data\n",
    "1. What dummy columns (categories) are missing from test that were in train?\n",
    "    - We'll add these and fill the values with 0\n",
    "2. What dummy columns (categories) are in test that were not in train?\n",
    "    - We'll drop these"
   ]
  },
  {
   "cell_type": "code",
   "execution_count": null,
   "metadata": {},
   "outputs": [],
   "source": [
    "# Let's use set operations to get the sets we need to answer the questions above\n",
    "# Make the train_dummies column list into a set\n",
    "train_set = set(train_dummies)\n",
    "# Get the unique categories from test and create a set\n",
    "test_set = set(df_test.nom_0.unique().tolist())\n",
    "# cols to add exist in train, but not in test\n",
    "cols_to_add = train_set.difference(test_set)\n",
    "# cols to remove exist in test but not in train\n",
    "cols_to_remove = test_set.difference(train_set)"
   ]
  },
  {
   "cell_type": "markdown",
   "metadata": {},
   "source": [
    "![orange-divider](https://user-images.githubusercontent.com/7065401/98619088-44ab6000-22e1-11eb-8f6d-5532e68ab274.png)\n",
    "\n",
    "## Now that we know what columns to look for, let's apply what we know to our test set"
   ]
  },
  {
   "cell_type": "code",
   "execution_count": null,
   "metadata": {},
   "outputs": [],
   "source": [
    "# One-hot encode the test set (we want to start with all of the columns)\n",
    "df_test_onehot = #fill in your code here\n",
    "# Add any cols that are missing -> fill values with 0\n",
    "for col in cols_to_add:\n",
    "    df_test_onehot[col] = 0\n",
    "# Remove any cols that weren't in train\n",
    "df_test_dummies = df_test_onehot.drop(cols_to_remove,axis=1)\n",
    "\n",
    "# Check that the width (number of columns) of train dummies and test dummies match\n"
   ]
  },
  {
   "cell_type": "markdown",
   "metadata": {},
   "source": [
    "![orange-divider](https://user-images.githubusercontent.com/7065401/98619088-44ab6000-22e1-11eb-8f6d-5532e68ab274.png)\n",
    "\n",
    "## One final thing\n",
    "\n",
    "When the numbers of columns match, you have one more thing you need to check --> that the columns are in the same order."
   ]
  },
  {
   "cell_type": "code",
   "execution_count": null,
   "metadata": {},
   "outputs": [],
   "source": [
    "# We already has an ordered list of columns from train in train_dummies\n",
    "# Let's apply that column order to test dummies\n",
    "df_test_dummies = df_test_dummies[train_dummies]\n",
    "\n",
    "# Check that the columns in train and test match\n",
    "for train_col,test_col in zip(df_train_dummies.columns,df_test_dummies.columns):\n",
    "    print(train_col,'<===>',test_col)"
   ]
  },
  {
   "cell_type": "markdown",
   "metadata": {},
   "source": [
    "![orange-divider](https://user-images.githubusercontent.com/7065401/98619088-44ab6000-22e1-11eb-8f6d-5532e68ab274.png)\n",
    "\n",
    "## Incongruent data labeling\n",
    "\n",
    "Looks like we have some incongruent data labeling in this data.\n",
    "\n",
    "> Go back and fix the labeling then redo the dummy columns"
   ]
  },
  {
   "cell_type": "code",
   "execution_count": null,
   "metadata": {},
   "outputs": [],
   "source": [
    "# Check unique categories in nom_0 using value_counts()\n"
   ]
  },
  {
   "cell_type": "code",
   "execution_count": null,
   "metadata": {},
   "outputs": [],
   "source": [
    "# Looks like making case uniform will solve part of the problem\n",
    "# Apply .lower() to train and test\n"
   ]
  },
  {
   "cell_type": "code",
   "execution_count": null,
   "metadata": {},
   "outputs": [],
   "source": [
    "# Have another look at the train categories\n"
   ]
  },
  {
   "cell_type": "code",
   "execution_count": null,
   "metadata": {},
   "outputs": [],
   "source": [
    "# Create a mapping using train data only to correct spelling\n",
    "nom_0_map = {'bule':'blue','rde':'red','geren':'green','blue':'blue','red':'red','green':'green'}\n",
    "# Use .map to apply the mapping to train data\n",
    "\n",
    "# Use .map to apply the mapping to test data\n"
   ]
  },
  {
   "cell_type": "code",
   "execution_count": null,
   "metadata": {},
   "outputs": [],
   "source": [
    "# Check categories in train\n"
   ]
  },
  {
   "cell_type": "code",
   "execution_count": null,
   "metadata": {},
   "outputs": [],
   "source": [
    "# Now that we've cleaned up our labeling, let's make our dummy columns again\n",
    "# Learn our dummy columns from our train data\n",
    "\n",
    "# keep the dummy cols for use on test data\n"
   ]
  },
  {
   "cell_type": "code",
   "execution_count": null,
   "metadata": {},
   "outputs": [],
   "source": [
    "# Assuming we don't know that our test categories match our train categories \n",
    "# (this should always be your assumption)\n",
    "# Get the cols to check\n",
    "# Let's use set operations to get the sets we need to answer the questions above\n",
    "# Make the train_dummies column list into a set\n",
    "\n",
    "# Get the unique categories from test and create a set\n",
    "\n",
    "# cols to add exist in train, but not in test\n",
    "\n",
    "# cols to remove exist in test but not in train\n"
   ]
  },
  {
   "cell_type": "code",
   "execution_count": null,
   "metadata": {},
   "outputs": [],
   "source": [
    "# One-hot encode the test set (we want to start with all of the columns)\n",
    "\n",
    "# Add any cols that are missing\n",
    "\n",
    "\n",
    "# Remove any cols that weren't in train\n",
    "\n",
    "\n",
    "# Check that the width of train dummies and test dummies match\n"
   ]
  },
  {
   "cell_type": "code",
   "execution_count": null,
   "metadata": {},
   "outputs": [],
   "source": [
    "# Set make sure the order of the test columns matches the order of the train columns\n"
   ]
  },
  {
   "cell_type": "code",
   "execution_count": null,
   "metadata": {},
   "outputs": [],
   "source": [
    "# Have a look at the train data\n"
   ]
  },
  {
   "cell_type": "code",
   "execution_count": null,
   "metadata": {},
   "outputs": [],
   "source": [
    "# Have a look at the test data\n"
   ]
  },
  {
   "cell_type": "markdown",
   "metadata": {},
   "source": [
    "![orange-divider](https://user-images.githubusercontent.com/7065401/98619088-44ab6000-22e1-11eb-8f6d-5532e68ab274.png)\n",
    "\n",
    "## They match!\n",
    "\n",
    "You've successfully cleaned up labeling and created matching dummy columns for train and test!"
   ]
  },
  {
   "cell_type": "markdown",
   "metadata": {},
   "source": [
    "<div style=\"position: relative;\">\n",
    "<img src=\"https://user-images.githubusercontent.com/7065401/98729912-57be3e80-237a-11eb-80e4-233ac344b391.png\"></img>\n",
    "</div>"
   ]
  }
 ],
 "metadata": {
  "kernelspec": {
   "display_name": "Python 3",
   "language": "python",
   "name": "python3"
  },
  "language_info": {
   "codemirror_mode": {
    "name": "ipython",
    "version": 3
   },
   "file_extension": ".py",
   "mimetype": "text/x-python",
   "name": "python",
   "nbconvert_exporter": "python",
   "pygments_lexer": "ipython3",
   "version": "3.8.6"
  }
 },
 "nbformat": 4,
 "nbformat_minor": 4
}
