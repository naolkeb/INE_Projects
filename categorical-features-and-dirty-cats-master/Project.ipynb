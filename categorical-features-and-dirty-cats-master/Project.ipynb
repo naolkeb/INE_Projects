{
 "cells": [
  {
   "cell_type": "markdown",
   "metadata": {},
   "source": [
    "![ine-divider](https://user-images.githubusercontent.com/7065401/92672068-398e8080-f2ee-11ea-82d6-ad53f7feb5c0.png)\n",
    "<hr>\n",
    "\n",
    "# Feature Engineering\n",
    "\n",
    "## Categorical features and dirty cats\n",
    "\n",
    "In this project, you will be working with dirty cats again to practice all the techniques you learned on previous lessons.  \n",
    "\n",
    "**Remember**: it's important to always learn from your training data and transform your test data.  Let's gain some practice applying feature engineering to train and test sets."
   ]
  },
  {
   "cell_type": "code",
   "execution_count": 2,
   "metadata": {},
   "outputs": [],
   "source": [
    "# Import necessary packages\n",
    "import numpy as np\n",
    "import pandas as pd"
   ]
  },
  {
   "cell_type": "code",
   "execution_count": 10,
   "metadata": {},
   "outputs": [
    {
     "name": "stdout",
     "output_type": "stream",
     "text": [
      "<class 'pandas.core.frame.DataFrame'>\n",
      "RangeIndex: 300000 entries, 0 to 299999\n",
      "Data columns (total 8 columns):\n",
      " #   Column  Non-Null Count   Dtype \n",
      "---  ------  --------------   ----- \n",
      " 0   nom_0   300000 non-null  object\n",
      " 1   nom_1   300000 non-null  object\n",
      " 2   nom_2   300000 non-null  object\n",
      " 3   nom_3   300000 non-null  object\n",
      " 4   nom_4   300000 non-null  object\n",
      " 5   ord_0   300000 non-null  int64 \n",
      " 6   ord_1   300000 non-null  object\n",
      " 7   ord_2   300000 non-null  object\n",
      "dtypes: int64(1), object(7)\n",
      "memory usage: 18.3+ MB\n"
     ]
    }
   ],
   "source": [
    "# Read in dirty_cats.csv\n",
    "df_dirty = pd.read_csv('datasets/dirty_cats.csv')\n",
    "df_dirty.info()"
   ]
  },
  {
   "cell_type": "markdown",
   "metadata": {},
   "source": [
    "![orange-divider](https://user-images.githubusercontent.com/7065401/98619088-44ab6000-22e1-11eb-8f6d-5532e68ab274.png)\n",
    "\n",
    "## How do we get dummies from our train set and apply them to our test set?"
   ]
  },
  {
   "cell_type": "code",
   "execution_count": 36,
   "metadata": {},
   "outputs": [],
   "source": [
    "# Let's work with our nom_0 column again\n",
    "# Get dummies for nom_0\n",
    "df_cats_nom0_dummies = pd.get_dummies(df_dirty.nom_0, drop_first=True)"
   ]
  },
  {
   "cell_type": "code",
   "execution_count": 37,
   "metadata": {},
   "outputs": [
    {
     "data": {
      "text/html": [
       "<div>\n",
       "<style scoped>\n",
       "    .dataframe tbody tr th:only-of-type {\n",
       "        vertical-align: middle;\n",
       "    }\n",
       "\n",
       "    .dataframe tbody tr th {\n",
       "        vertical-align: top;\n",
       "    }\n",
       "\n",
       "    .dataframe thead th {\n",
       "        text-align: right;\n",
       "    }\n",
       "</style>\n",
       "<table border=\"1\" class=\"dataframe\">\n",
       "  <thead>\n",
       "    <tr style=\"text-align: right;\">\n",
       "      <th></th>\n",
       "      <th>BULE</th>\n",
       "      <th>Blue</th>\n",
       "      <th>Bule</th>\n",
       "      <th>GEREN</th>\n",
       "      <th>GREEN</th>\n",
       "      <th>Geren</th>\n",
       "      <th>Green</th>\n",
       "      <th>RED</th>\n",
       "      <th>Rde</th>\n",
       "      <th>Red</th>\n",
       "      <th>blue</th>\n",
       "      <th>green</th>\n",
       "      <th>red</th>\n",
       "    </tr>\n",
       "  </thead>\n",
       "  <tbody>\n",
       "    <tr>\n",
       "      <th>0</th>\n",
       "      <td>0</td>\n",
       "      <td>0</td>\n",
       "      <td>0</td>\n",
       "      <td>0</td>\n",
       "      <td>0</td>\n",
       "      <td>0</td>\n",
       "      <td>1</td>\n",
       "      <td>0</td>\n",
       "      <td>0</td>\n",
       "      <td>0</td>\n",
       "      <td>0</td>\n",
       "      <td>0</td>\n",
       "      <td>0</td>\n",
       "    </tr>\n",
       "    <tr>\n",
       "      <th>1</th>\n",
       "      <td>0</td>\n",
       "      <td>0</td>\n",
       "      <td>0</td>\n",
       "      <td>0</td>\n",
       "      <td>0</td>\n",
       "      <td>0</td>\n",
       "      <td>1</td>\n",
       "      <td>0</td>\n",
       "      <td>0</td>\n",
       "      <td>0</td>\n",
       "      <td>0</td>\n",
       "      <td>0</td>\n",
       "      <td>0</td>\n",
       "    </tr>\n",
       "    <tr>\n",
       "      <th>2</th>\n",
       "      <td>0</td>\n",
       "      <td>1</td>\n",
       "      <td>0</td>\n",
       "      <td>0</td>\n",
       "      <td>0</td>\n",
       "      <td>0</td>\n",
       "      <td>0</td>\n",
       "      <td>0</td>\n",
       "      <td>0</td>\n",
       "      <td>0</td>\n",
       "      <td>0</td>\n",
       "      <td>0</td>\n",
       "      <td>0</td>\n",
       "    </tr>\n",
       "    <tr>\n",
       "      <th>3</th>\n",
       "      <td>0</td>\n",
       "      <td>0</td>\n",
       "      <td>0</td>\n",
       "      <td>0</td>\n",
       "      <td>0</td>\n",
       "      <td>0</td>\n",
       "      <td>0</td>\n",
       "      <td>0</td>\n",
       "      <td>0</td>\n",
       "      <td>1</td>\n",
       "      <td>0</td>\n",
       "      <td>0</td>\n",
       "      <td>0</td>\n",
       "    </tr>\n",
       "    <tr>\n",
       "      <th>4</th>\n",
       "      <td>0</td>\n",
       "      <td>0</td>\n",
       "      <td>0</td>\n",
       "      <td>0</td>\n",
       "      <td>0</td>\n",
       "      <td>0</td>\n",
       "      <td>0</td>\n",
       "      <td>0</td>\n",
       "      <td>0</td>\n",
       "      <td>1</td>\n",
       "      <td>0</td>\n",
       "      <td>0</td>\n",
       "      <td>0</td>\n",
       "    </tr>\n",
       "  </tbody>\n",
       "</table>\n",
       "</div>"
      ],
      "text/plain": [
       "   BULE  Blue  Bule  GEREN  GREEN  Geren  Green  RED  Rde  Red  blue  green  \\\n",
       "0     0     0     0      0      0      0      1    0    0    0     0      0   \n",
       "1     0     0     0      0      0      0      1    0    0    0     0      0   \n",
       "2     0     1     0      0      0      0      0    0    0    0     0      0   \n",
       "3     0     0     0      0      0      0      0    0    0    1     0      0   \n",
       "4     0     0     0      0      0      0      0    0    0    1     0      0   \n",
       "\n",
       "   red  \n",
       "0    0  \n",
       "1    0  \n",
       "2    0  \n",
       "3    0  \n",
       "4    0  "
      ]
     },
     "execution_count": 37,
     "metadata": {},
     "output_type": "execute_result"
    }
   ],
   "source": [
    "# Check out the dummy columns\n",
    "df_cats_nom0_dummies.head()"
   ]
  },
  {
   "cell_type": "markdown",
   "metadata": {},
   "source": [
    "---\n",
    "### nom_0 has 3 categories: Green, Blue and Red\n",
    "But, the dummies (because we dropped a column) only has 2 of the 3.\n",
    "\n",
    "> How do we make sure our test dummies has the same 2 out of 3 columns?"
   ]
  },
  {
   "cell_type": "code",
   "execution_count": 53,
   "metadata": {},
   "outputs": [],
   "source": [
    "# Split the data into train and test\n",
    "# There's no target in this toy dataset.  We can just split the data randomly\n",
    "# Select 80% of the data randomly for train\n",
    "msk = np.random.rand(len(df_dirty)) < 0.8\n",
    "# Pull the train data out\n",
    "df_train = df_dirty[msk].copy()\n",
    "# Pull the test data out\n",
    "df_test = df_dirty[~msk].copy()"
   ]
  },
  {
   "cell_type": "code",
   "execution_count": 57,
   "metadata": {},
   "outputs": [],
   "source": [
    "# Learn our dummy columns from our train data\n",
    "# Use pd.get_dummies to get dummy columns for train data\n",
    "df_train_dummies = pd.get_dummies(df_train.nom_0,drop_first=True)\n",
    "# Save the columns from the dummy data frame as a list\n",
    "train_dummies = df_train_dummies.columns.tolist() #fill in your code here"
   ]
  },
  {
   "cell_type": "markdown",
   "metadata": {},
   "source": [
    "![orange-divider](https://user-images.githubusercontent.com/7065401/98619088-44ab6000-22e1-11eb-8f6d-5532e68ab274.png)\n",
    "\n",
    "## Checking dummy columns\n",
    "\n",
    "There are 2 things you need to check for when applying what you learned about dummies in train to the test data\n",
    "1. What dummy columns (categories) are missing from test that were in train?\n",
    "    - We'll add these and fill the values with 0\n",
    "2. What dummy columns (categories) are in test that were not in train?\n",
    "    - We'll drop these"
   ]
  },
  {
   "cell_type": "code",
   "execution_count": 58,
   "metadata": {},
   "outputs": [],
   "source": [
    "# Let's use set operations to get the sets we need to answer the questions above\n",
    "# Make the train_dummies column list into a set\n",
    "train_set = set(train_dummies)\n",
    "# Get the unique categories from test and create a set\n",
    "test_set = set(df_test.nom_0.unique().tolist())\n",
    "# cols to add exist in train, but not in test\n",
    "cols_to_add = train_set.difference(test_set)\n",
    "# cols to remove exist in test but not in train\n",
    "cols_to_remove = test_set.difference(train_set)"
   ]
  },
  {
   "cell_type": "markdown",
   "metadata": {},
   "source": [
    "![orange-divider](https://user-images.githubusercontent.com/7065401/98619088-44ab6000-22e1-11eb-8f6d-5532e68ab274.png)\n",
    "\n",
    "## Now that we know what columns to look for, let's apply what we know to our test set"
   ]
  },
  {
   "cell_type": "code",
   "execution_count": 59,
   "metadata": {},
   "outputs": [],
   "source": [
    "# One-hot encode the test set (we want to start with all of the columns)\n",
    "df_test_onehot = pd.get_dummies(df_test.nom_0)#fill in your code here\n",
    "# Add any cols that are missing -> fill values with 0\n",
    "for col in cols_to_add:\n",
    "    df_test_onehot[col] = 0"
   ]
  },
  {
   "cell_type": "code",
   "execution_count": 62,
   "metadata": {},
   "outputs": [
    {
     "name": "stdout",
     "output_type": "stream",
     "text": [
      "13 13\n"
     ]
    }
   ],
   "source": [
    "# Remove any cols that weren't in train\n",
    "df_test_dummies = df_test_onehot.drop(cols_to_remove,axis=1)\n",
    "\n",
    "# Check that the width (number of columns) of train dummies and test dummies match\n",
    "print(len(df_test_dummies.columns), len(df_train_dummies.columns))"
   ]
  },
  {
   "cell_type": "markdown",
   "metadata": {},
   "source": [
    "![orange-divider](https://user-images.githubusercontent.com/7065401/98619088-44ab6000-22e1-11eb-8f6d-5532e68ab274.png)\n",
    "\n",
    "## One final thing\n",
    "\n",
    "When the numbers of columns match, you have one more thing you need to check --> that the columns are in the same order."
   ]
  },
  {
   "cell_type": "code",
   "execution_count": 63,
   "metadata": {},
   "outputs": [
    {
     "name": "stdout",
     "output_type": "stream",
     "text": [
      "BULE <===> BULE\n",
      "Blue <===> Blue\n",
      "Bule <===> Bule\n",
      "GEREN <===> GEREN\n",
      "GREEN <===> GREEN\n",
      "Geren <===> Geren\n",
      "Green <===> Green\n",
      "RED <===> RED\n",
      "Rde <===> Rde\n",
      "Red <===> Red\n",
      "blue <===> blue\n",
      "green <===> green\n",
      "red <===> red\n"
     ]
    }
   ],
   "source": [
    "# We already has an ordered list of columns from train in train_dummies\n",
    "# Let's apply that column order to test dummies\n",
    "df_test_dummies = df_test_dummies[train_dummies]\n",
    "\n",
    "# Check that the columns in train and test match\n",
    "for train_col,test_col in zip(df_train_dummies.columns,df_test_dummies.columns):\n",
    "    print(train_col,'<===>',test_col)"
   ]
  },
  {
   "cell_type": "markdown",
   "metadata": {},
   "source": [
    "![orange-divider](https://user-images.githubusercontent.com/7065401/98619088-44ab6000-22e1-11eb-8f6d-5532e68ab274.png)\n",
    "\n",
    "## Incongruent data labeling\n",
    "\n",
    "Looks like we have some incongruent data labeling in this data.\n",
    "\n",
    "> Go back and fix the labeling then redo the dummy columns"
   ]
  },
  {
   "cell_type": "code",
   "execution_count": 64,
   "metadata": {},
   "outputs": [
    {
     "data": {
      "text/plain": [
       "Green    127328\n",
       "Blue      96152\n",
       "Red       76481\n",
       "green         5\n",
       "blue          5\n",
       "Rde           5\n",
       "Bule          4\n",
       "GREEN         4\n",
       "RED           4\n",
       "red           3\n",
       "BLUE          3\n",
       "GEREN         2\n",
       "BULE          2\n",
       "Geren         2\n",
       "Name: nom_0, dtype: int64"
      ]
     },
     "execution_count": 64,
     "metadata": {},
     "output_type": "execute_result"
    }
   ],
   "source": [
    "# Check unique categories in nom_0 using value_counts()\n",
    "df_cats.nom_0.value_counts()"
   ]
  },
  {
   "cell_type": "code",
   "execution_count": 67,
   "metadata": {},
   "outputs": [],
   "source": [
    "# Looks like making case uniform will solve part of the problem\n",
    "# Apply .lower() to train and test\n",
    "df_test.nom_0 = df_test.nom_0.apply(lambda x: x.lower())\n",
    "df_train.nom_0 = df_train.nom_0.apply(lambda x: x.lower())"
   ]
  },
  {
   "cell_type": "code",
   "execution_count": 68,
   "metadata": {},
   "outputs": [
    {
     "data": {
      "text/plain": [
       "green    101717\n",
       "blue      76772\n",
       "red       61322\n",
       "bule          5\n",
       "geren         4\n",
       "rde           4\n",
       "Name: nom_0, dtype: int64"
      ]
     },
     "execution_count": 68,
     "metadata": {},
     "output_type": "execute_result"
    }
   ],
   "source": [
    "# Have another look at the train categories\n",
    "df_train.nom_0.value_counts()"
   ]
  },
  {
   "cell_type": "code",
   "execution_count": 69,
   "metadata": {},
   "outputs": [],
   "source": [
    "# Create a mapping using train data only to correct spelling\n",
    "nom_0_map = {'bule':'blue','rde':'red','geren':'green','blue':'blue','red':'red','green':'green'}\n",
    "# Use .map to apply the mapping to train data\n",
    "df_train.nom_0 = df_train.nom_0.map(nom_0_map)\n",
    "# Use .map to apply the mapping to test data\n",
    "df_test.nom_0 = df_test.nom_0.map(nom_0_map)"
   ]
  },
  {
   "cell_type": "code",
   "execution_count": 81,
   "metadata": {},
   "outputs": [
    {
     "data": {
      "text/plain": [
       "array(['green', 'blue', 'red'], dtype=object)"
      ]
     },
     "execution_count": 81,
     "metadata": {},
     "output_type": "execute_result"
    }
   ],
   "source": [
    "# Check categories in train\n",
    "df_train.nom_0.unique()"
   ]
  },
  {
   "cell_type": "code",
   "execution_count": 91,
   "metadata": {},
   "outputs": [],
   "source": [
    "# Now that we've cleaned up our labeling, let's make our dummy columns again\n",
    "# Learn our dummy columns from our train data\n",
    "df_train_dummies = pd.get_dummies(df_train.nom_0,drop_first=True)\n",
    "# keep the dummy cols for use on test data\n",
    "train_dummies = df_train_dummies.columns"
   ]
  },
  {
   "cell_type": "code",
   "execution_count": 96,
   "metadata": {},
   "outputs": [],
   "source": [
    "# Assuming we don't know that our test categories match our train categories \n",
    "# (this should always be your assumption)\n",
    "# Get the cols to check\n",
    "# Let's use set operations to get the sets we need to answer the questions above\n",
    "# Make the train_dummies column list into a set\n",
    "train_set = set(train_dummies)\n",
    "# Get the unique categories from test and create a set\n",
    "test_set = set(df_test.nom_0.unique().tolist())\n",
    "# cols to add exist in train, but not in test\n",
    "cols_to_add = train_set.difference(test_set)\n",
    "# cols to remove exist in test but not in train\n",
    "cols_to_remove = test_set.difference(train_set)"
   ]
  },
  {
   "cell_type": "code",
   "execution_count": 97,
   "metadata": {},
   "outputs": [
    {
     "name": "stdout",
     "output_type": "stream",
     "text": [
      "2 2\n"
     ]
    }
   ],
   "source": [
    "# One-hot encode the test set (we want to start with all of the columns)\n",
    "df_test_onehot = pd.get_dummies(df_test.nom_0)\n",
    "\n",
    "# Add any cols that are missing\n",
    "for col in cols_to_add:\n",
    "    df_test_onehot[col] = 0\n",
    "# Remove any cols that weren't in train\n",
    "df_test_dummies = df_test_onehot.drop(cols_to_remove,axis=1)\n",
    "\n",
    "# Check that the width of train dummies and test dummies match\n",
    "print(len(df_test_dummies.columns), len(df_train_dummies.columns))"
   ]
  },
  {
   "cell_type": "code",
   "execution_count": 98,
   "metadata": {},
   "outputs": [
    {
     "data": {
      "text/html": [
       "<div>\n",
       "<style scoped>\n",
       "    .dataframe tbody tr th:only-of-type {\n",
       "        vertical-align: middle;\n",
       "    }\n",
       "\n",
       "    .dataframe tbody tr th {\n",
       "        vertical-align: top;\n",
       "    }\n",
       "\n",
       "    .dataframe thead th {\n",
       "        text-align: right;\n",
       "    }\n",
       "</style>\n",
       "<table border=\"1\" class=\"dataframe\">\n",
       "  <thead>\n",
       "    <tr style=\"text-align: right;\">\n",
       "      <th></th>\n",
       "      <th>green</th>\n",
       "      <th>red</th>\n",
       "    </tr>\n",
       "  </thead>\n",
       "  <tbody>\n",
       "    <tr>\n",
       "      <th>0</th>\n",
       "      <td>1</td>\n",
       "      <td>0</td>\n",
       "    </tr>\n",
       "    <tr>\n",
       "      <th>1</th>\n",
       "      <td>1</td>\n",
       "      <td>0</td>\n",
       "    </tr>\n",
       "    <tr>\n",
       "      <th>2</th>\n",
       "      <td>0</td>\n",
       "      <td>0</td>\n",
       "    </tr>\n",
       "    <tr>\n",
       "      <th>3</th>\n",
       "      <td>0</td>\n",
       "      <td>1</td>\n",
       "    </tr>\n",
       "    <tr>\n",
       "      <th>4</th>\n",
       "      <td>0</td>\n",
       "      <td>1</td>\n",
       "    </tr>\n",
       "  </tbody>\n",
       "</table>\n",
       "</div>"
      ],
      "text/plain": [
       "   green  red\n",
       "0      1    0\n",
       "1      1    0\n",
       "2      0    0\n",
       "3      0    1\n",
       "4      0    1"
      ]
     },
     "execution_count": 98,
     "metadata": {},
     "output_type": "execute_result"
    }
   ],
   "source": [
    "# Have a look at the train data\n",
    "df_train_dummies.head()"
   ]
  },
  {
   "cell_type": "code",
   "execution_count": 99,
   "metadata": {},
   "outputs": [
    {
     "data": {
      "text/html": [
       "<div>\n",
       "<style scoped>\n",
       "    .dataframe tbody tr th:only-of-type {\n",
       "        vertical-align: middle;\n",
       "    }\n",
       "\n",
       "    .dataframe tbody tr th {\n",
       "        vertical-align: top;\n",
       "    }\n",
       "\n",
       "    .dataframe thead th {\n",
       "        text-align: right;\n",
       "    }\n",
       "</style>\n",
       "<table border=\"1\" class=\"dataframe\">\n",
       "  <thead>\n",
       "    <tr style=\"text-align: right;\">\n",
       "      <th></th>\n",
       "      <th>green</th>\n",
       "      <th>red</th>\n",
       "    </tr>\n",
       "  </thead>\n",
       "  <tbody>\n",
       "    <tr>\n",
       "      <th>6</th>\n",
       "      <td>1</td>\n",
       "      <td>0</td>\n",
       "    </tr>\n",
       "    <tr>\n",
       "      <th>12</th>\n",
       "      <td>1</td>\n",
       "      <td>0</td>\n",
       "    </tr>\n",
       "    <tr>\n",
       "      <th>15</th>\n",
       "      <td>1</td>\n",
       "      <td>0</td>\n",
       "    </tr>\n",
       "    <tr>\n",
       "      <th>19</th>\n",
       "      <td>0</td>\n",
       "      <td>1</td>\n",
       "    </tr>\n",
       "    <tr>\n",
       "      <th>28</th>\n",
       "      <td>1</td>\n",
       "      <td>0</td>\n",
       "    </tr>\n",
       "  </tbody>\n",
       "</table>\n",
       "</div>"
      ],
      "text/plain": [
       "    green  red\n",
       "6       1    0\n",
       "12      1    0\n",
       "15      1    0\n",
       "19      0    1\n",
       "28      1    0"
      ]
     },
     "execution_count": 99,
     "metadata": {},
     "output_type": "execute_result"
    }
   ],
   "source": [
    "# Have a look at the test data\n",
    "df_test_dummies.head()"
   ]
  },
  {
   "cell_type": "markdown",
   "metadata": {},
   "source": [
    "![orange-divider](https://user-images.githubusercontent.com/7065401/98619088-44ab6000-22e1-11eb-8f6d-5532e68ab274.png)\n",
    "\n",
    "## They match!\n",
    "\n",
    "You've successfully cleaned up labeling and created matching dummy columns for train and test!"
   ]
  }
 ],
 "metadata": {
  "kernelspec": {
   "display_name": "Python 3",
   "language": "python",
   "name": "python3"
  },
  "language_info": {
   "codemirror_mode": {
    "name": "ipython",
    "version": 3
   },
   "file_extension": ".py",
   "mimetype": "text/x-python",
   "name": "python",
   "nbconvert_exporter": "python",
   "pygments_lexer": "ipython3",
   "version": "3.8.10"
  }
 },
 "nbformat": 4,
 "nbformat_minor": 4
}
