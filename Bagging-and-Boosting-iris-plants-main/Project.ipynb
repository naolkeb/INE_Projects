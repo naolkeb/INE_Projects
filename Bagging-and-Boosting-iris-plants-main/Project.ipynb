{
 "cells": [
  {
   "cell_type": "markdown",
   "metadata": {
    "slideshow": {
     "slide_type": "slide"
    }
   },
   "source": [
    "<div style=\"width: 100%; background-color: #222; text-align: center\">\n",
    "<br><br>\n",
    "\n",
    "<h1 style=\"color: white; font-weight: bold;\">\n",
    "    Project\n",
    "</h1>\n",
    "    \n",
    "<h3 style=\"color: #ef7d22; font-weight: normal;\">\n",
    "    Bagging and Boosting iris plants\n",
    "</h3>\n",
    "\n",
    "<br><br> \n",
    "</div>\n",
    "\n",
    "![orange-divider](https://user-images.githubusercontent.com/7065401/98619088-44ab6000-22e1-11eb-8f6d-5532e68ab274.png)"
   ]
  },
  {
   "cell_type": "code",
   "execution_count": 1,
   "metadata": {},
   "outputs": [],
   "source": [
    "# Import packages\n",
    "import numpy as np\n",
    "import pandas as pd\n",
    "\n",
    "import matplotlib.pyplot as plt\n",
    "\n",
    "from sklearn.datasets import load_iris\n",
    "from sklearn.tree import DecisionTreeClassifier\n",
    "from sklearn.ensemble import RandomForestClassifier\n",
    "from sklearn.model_selection import train_test_split,GridSearchCV,RandomizedSearchCV\n",
    "\n",
    "import warnings\n",
    "warnings.filterwarnings('ignore')"
   ]
  },
  {
   "cell_type": "code",
   "execution_count": 2,
   "metadata": {},
   "outputs": [],
   "source": [
    "# Load data using load_iris\n",
    "X, y = load_iris(return_X_y=True)\n",
    "\n",
    "# Split data into test and train - stratify on y\n",
    "X_train,X_test,y_train,y_test = train_test_split(X,y,stratify=y,test_size=.2,random_state=42)"
   ]
  },
  {
   "cell_type": "markdown",
   "metadata": {},
   "source": [
    "# Bagging (Random Forest Classifier)"
   ]
  },
  {
   "cell_type": "code",
   "execution_count": 3,
   "metadata": {},
   "outputs": [
    {
     "name": "stdout",
     "output_type": "stream",
     "text": [
      "Fitting 3 folds for each of 100 candidates, totalling 300 fits\n"
     ]
    },
    {
     "data": {
      "text/plain": [
       "RandomizedSearchCV(cv=3,\n",
       "                   estimator=RandomForestClassifier(n_jobs=-1, oob_score=True,\n",
       "                                                    random_state=42),\n",
       "                   n_iter=100, n_jobs=-1,\n",
       "                   param_distributions={'max_depth': [5, 6, 7, 8, 9, None],\n",
       "                                        'max_features': ['sqrt', 'log2', 2, 3,\n",
       "                                                         5],\n",
       "                                        'max_samples': [None, 0.7, 0.5, 0.4,\n",
       "                                                        0.3],\n",
       "                                        'min_samples_leaf': [1, 2, 3, 5],\n",
       "                                        'min_samples_split': [2, 3, 5],\n",
       "                                        'n_estimators': [100, 1000, 2000, 3000,\n",
       "                                                         4000, 5000, 6000, 7000,\n",
       "                                                         8000, 9000]},\n",
       "                   random_state=42, verbose=True)"
      ]
     },
     "execution_count": 3,
     "metadata": {},
     "output_type": "execute_result"
    }
   ],
   "source": [
    "# Create a Random Forest Classifier\n",
    "# Tune with GridSearchCV or RandomizedSearchCV\n",
    "# Create a grid with ranges of hyperparameter values\n",
    "params = {\n",
    "          'n_estimators':[100]+list(range(1000,10000,1000)), # default is 100\n",
    "          'max_depth':list(range(5,10))+[None], # The higher the number the deeper the tree - None is the deepest - default is None\n",
    "          'min_samples_split': [2,3,5], # The lower the number the deeper the tree - default is 2\n",
    "          'min_samples_leaf': [1,2,3,5], # The lower the number the deeper the tree - default is 1\n",
    "          'max_features': ['sqrt','log2',2,3,5], # default is 'auto'\n",
    "          'max_samples': [None,0.7,0.5,0.4,0.3] # the number of samples for each bootstrap dataset - default is None\n",
    "         }\n",
    "\n",
    "# Instantiate a random forest instance\n",
    "rf = RandomForestClassifier(n_jobs=-1,random_state=42,bootstrap=True,oob_score=True)\n",
    "\n",
    "# Instantiate the randomized search instance\n",
    "rand_rf= RandomizedSearchCV(estimator=rf,param_distributions=params,n_iter=100,cv=3,verbose=True,random_state=42,n_jobs=-1)\n",
    "\n",
    "# Fit the randomized search instance to the train data\n",
    "rand_rf.fit(X_train,y_train)"
   ]
  },
  {
   "cell_type": "code",
   "execution_count": 4,
   "metadata": {},
   "outputs": [
    {
     "data": {
      "text/plain": [
       "{'n_estimators': 5000,\n",
       " 'min_samples_split': 5,\n",
       " 'min_samples_leaf': 1,\n",
       " 'max_samples': 0.5,\n",
       " 'max_features': 'sqrt',\n",
       " 'max_depth': 7}"
      ]
     },
     "execution_count": 4,
     "metadata": {},
     "output_type": "execute_result"
    }
   ],
   "source": [
    "# Save the best params to a variable\n",
    "best_params = rand_rf.best_params_\n",
    "best_params"
   ]
  },
  {
   "cell_type": "code",
   "execution_count": 6,
   "metadata": {},
   "outputs": [
    {
     "data": {
      "text/plain": [
       "RandomForestClassifier(max_depth=7, max_features='sqrt', max_samples=0.5,\n",
       "                       min_samples_split=5, n_estimators=5000, n_jobs=-1,\n",
       "                       oob_score=True, random_state=42)"
      ]
     },
     "execution_count": 6,
     "metadata": {},
     "output_type": "execute_result"
    }
   ],
   "source": [
    "# Instantiate a new random forest instance using the best params from the search\n",
    "# Note: because this is a toy dataset, I could experiment with keeping my test set as a hold-out set and using oob_score to tune.\n",
    "rf = RandomForestClassifier(n_jobs=-1,\n",
    "                            random_state=42,\n",
    "                            bootstrap=True,\n",
    "                            oob_score=True,\n",
    "                            n_estimators=best_params['n_estimators'],\n",
    "                            min_samples_split=best_params['min_samples_split'],\n",
    "                            min_samples_leaf=best_params['min_samples_leaf'],\n",
    "                            max_samples=best_params['max_samples'],\n",
    "                            max_features=best_params['max_features'],\n",
    "                            max_depth=best_params['max_depth'])\n",
    "\n",
    "# Fit the classifier on train data\n",
    "rf.fit(X_train,y_train)\n"
   ]
  },
  {
   "cell_type": "code",
   "execution_count": 8,
   "metadata": {},
   "outputs": [
    {
     "data": {
      "text/plain": [
       "0    40\n",
       "1    40\n",
       "2    40\n",
       "dtype: int64"
      ]
     },
     "execution_count": 8,
     "metadata": {},
     "output_type": "execute_result"
    }
   ],
   "source": [
    "# Get the baseline accuracy of train data\n",
    "pd.Series(y_train).value_counts()"
   ]
  },
  {
   "cell_type": "markdown",
   "metadata": {},
   "source": [
    "# What did you learn about baseline accuracy?\n",
    "> there is no majority class so the baseline accuracy is just 1/3 since they are all the same size"
   ]
  },
  {
   "cell_type": "code",
   "execution_count": 9,
   "metadata": {},
   "outputs": [
    {
     "data": {
      "text/plain": [
       "0.9833333333333333"
      ]
     },
     "execution_count": 9,
     "metadata": {},
     "output_type": "execute_result"
    }
   ],
   "source": [
    "# Scores for training accuracy\n",
    "rf.score(X_train,y_train)\n"
   ]
  },
  {
   "cell_type": "code",
   "execution_count": 10,
   "metadata": {},
   "outputs": [
    {
     "data": {
      "text/plain": [
       "0.9666666666666667"
      ]
     },
     "execution_count": 10,
     "metadata": {},
     "output_type": "execute_result"
    }
   ],
   "source": [
    "# Score for test accuracy\n",
    "rf.score(X_test,y_test)\n"
   ]
  },
  {
   "cell_type": "code",
   "execution_count": 12,
   "metadata": {},
   "outputs": [
    {
     "data": {
      "text/plain": [
       "<AxesSubplot:xlabel='Predicted', ylabel='Actual'>"
      ]
     },
     "execution_count": 12,
     "metadata": {},
     "output_type": "execute_result"
    },
    {
     "data": {
      "image/png": "[encoded data removed]",
      "text/plain": [
       "<Figure size 720x504 with 2 Axes>"
      ]
     },
     "metadata": {
      "needs_background": "light"
     },
     "output_type": "display_data"
    }
   ],
   "source": [
    "# Use a seaborn heatmap to visualize the categorical accuracy on the test set\n",
    "# How is our model really performing?\n",
    "\n",
    "from sklearn.metrics import confusion_matrix\n",
    "# Create a confusion matrix with test data\n",
    "\n",
    "import matplotlib.pyplot as plt\n",
    "%matplotlib inline\n",
    "import numpy as np\n",
    "import seaborn as sns\n",
    "# Put the confusion matrix in a data frame\n",
    "df = pd.DataFrame(confusion_matrix(y_test,rf.predict(X_test)),columns=np.unique(y_test), index=np.unique(y_test))\n",
    "# Change the index name to 'Actual'\n",
    "df.index.name = 'Actual'\n",
    "# Change the columns name to 'Predicted'\n",
    "df.columns.name = 'Predicted'\n",
    "# Make the figure size (10,7)\n",
    "plt.figure(figsize=(10,7))\n",
    "# Set the font_scale to 1.4\n",
    "sns.set(font_scale=1.4)\n",
    "# Use the heatmap to visualize the categorical accuracy\n",
    "sns.heatmap(df, cmap='Blues', annot=True, annot_kws={'size': 16},fmt='g')"
   ]
  },
  {
   "cell_type": "markdown",
   "metadata": {},
   "source": [
    "# Boosting (Gradient Boosting Classifier)"
   ]
  },
  {
   "cell_type": "code",
   "execution_count": 16,
   "metadata": {},
   "outputs": [],
   "source": [
    "from sklearn.ensemble import GradientBoostingClassifier"
   ]
  },
  {
   "cell_type": "code",
   "execution_count": 17,
   "metadata": {},
   "outputs": [],
   "source": [
    "# Load data using load_iris\n",
    "X, y = load_iris(return_X_y=True)\n",
    "\n",
    "# Split data into test and train - stratify on y\n",
    "X_train,X_test,y_train,y_test = train_test_split(X,y,stratify=y,test_size=.2,random_state=42)"
   ]
  },
  {
   "cell_type": "code",
   "execution_count": 18,
   "metadata": {},
   "outputs": [],
   "source": [
    "# Build a gradient boosting classifier\n",
    "# Tune hyperparameters using either GridSearchCV or RandomizedSearchCV\n",
    "params = {\n",
    "          'n_estimators':[100,1000,5000,10000,20000], # default is 100\n",
    "          'learning_rate':[0.01,0.001,0.1,0.2,0.3], # default is 0.1\n",
    "          'subsample':[0.2,0.5,0.75,1.0], # default is 1\n",
    "          'max_depth':[3,5,None], # default is 3\n",
    "          'max_features':[3,5,'auto','sqrt','log2',None] # default is 'auto'\n",
    "         }"
   ]
  },
  {
   "cell_type": "code",
   "execution_count": 19,
   "metadata": {},
   "outputs": [
    {
     "name": "stdout",
     "output_type": "stream",
     "text": [
      "Fitting 3 folds for each of 10 candidates, totalling 30 fits\n"
     ]
    },
    {
     "data": {
      "text/plain": [
       "RandomizedSearchCV(cv=3,\n",
       "                   estimator=GradientBoostingClassifier(n_iter_no_change=3,\n",
       "                                                        random_state=42,\n",
       "                                                        validation_fraction=0.2),\n",
       "                   n_jobs=-1,\n",
       "                   param_distributions={'learning_rate': [0.01, 0.001, 0.1, 0.2,\n",
       "                                                          0.3],\n",
       "                                        'max_depth': [3, 5, None],\n",
       "                                        'max_features': [3, 5, 'auto', 'sqrt',\n",
       "                                                         'log2', None],\n",
       "                                        'n_estimators': [100, 1000, 5000, 10000,\n",
       "                                                         20000],\n",
       "                                        'subsample': [0.2, 0.5, 0.75, 1.0]},\n",
       "                   random_state=42, verbose=2)"
      ]
     },
     "execution_count": 19,
     "metadata": {},
     "output_type": "execute_result"
    }
   ],
   "source": [
    "# Instantiate a gradient boosting classifier\n",
    "gbc = GradientBoostingClassifier(loss='deviance',criterion='friedman_mse',random_state=42,validation_fraction=0.2,n_iter_no_change=3)\n",
    "\n",
    "# Instantiate a hyperparameter search instance\n",
    "rand_gbc = RandomizedSearchCV(estimator=gbc,param_distributions=params,random_state=42,cv=3,verbose=2,n_jobs=-1)\n",
    "\n",
    "# Fit the search instance to train data\n",
    "rand_gbc.fit(X_train,y_train)"
   ]
  },
  {
   "cell_type": "code",
   "execution_count": 20,
   "metadata": {},
   "outputs": [
    {
     "data": {
      "text/plain": [
       "{'subsample': 0.75,\n",
       " 'n_estimators': 1000,\n",
       " 'max_features': 'auto',\n",
       " 'max_depth': 3,\n",
       " 'learning_rate': 0.2}"
      ]
     },
     "execution_count": 20,
     "metadata": {},
     "output_type": "execute_result"
    }
   ],
   "source": [
    "# Save the best hyperparameters to a variable\n",
    "best_params = rand_gbc.best_params_\n",
    "best_params"
   ]
  },
  {
   "cell_type": "code",
   "execution_count": 21,
   "metadata": {},
   "outputs": [
    {
     "data": {
      "text/plain": [
       "GradientBoostingClassifier(learning_rate=0.2, max_features='auto',\n",
       "                           n_estimators=1000, n_iter_no_change=3,\n",
       "                           random_state=42, subsample=0.75,\n",
       "                           validation_fraction=0.2)"
      ]
     },
     "execution_count": 21,
     "metadata": {},
     "output_type": "execute_result"
    }
   ],
   "source": [
    "# Instantiate a new classifier using the best hyperparameters found\n",
    "gbc = GradientBoostingClassifier(\n",
    "    loss='deviance',\n",
    "    criterion='friedman_mse',\n",
    "    random_state=42,\n",
    "    validation_fraction=0.2,\n",
    "    n_iter_no_change=3,\n",
    "    n_estimators=best_params['n_estimators'],\n",
    "    learning_rate=best_params['learning_rate'],\n",
    "    subsample=best_params['subsample'],\n",
    "    max_depth=best_params['max_depth'],\n",
    "    max_features=best_params['max_features'])\n",
    "\n",
    "# Fit on train data\n",
    "gbc.fit(X_train, y_train)\n"
   ]
  },
  {
   "cell_type": "code",
   "execution_count": 22,
   "metadata": {},
   "outputs": [
    {
     "data": {
      "text/plain": [
       "(0.9916666666666667, 0.9666666666666667)"
      ]
     },
     "execution_count": 22,
     "metadata": {},
     "output_type": "execute_result"
    }
   ],
   "source": [
    "# Get scores for train and test data\n",
    "gbc.score(X_train,y_train),gbc.score(X_test,y_test)"
   ]
  },
  {
   "cell_type": "code",
   "execution_count": 24,
   "metadata": {},
   "outputs": [
    {
     "data": {
      "text/plain": [
       "<AxesSubplot:xlabel='Predicted', ylabel='Actual'>"
      ]
     },
     "execution_count": 24,
     "metadata": {},
     "output_type": "execute_result"
    },
    {
     "data": {
      "image/png": "[encoded data removed]",
      "text/plain": [
       "<Figure size 720x504 with 2 Axes>"
      ]
     },
     "metadata": {
      "needs_background": "light"
     },
     "output_type": "display_data"
    }
   ],
   "source": [
    "# Use a seaborn heatmap to visualize the categorical accuracy on the test set\n",
    "# How is our model really performing?\n",
    "\n",
    "from sklearn.metrics import confusion_matrix\n",
    "# Create a confusion matrix with test data\n",
    "\n",
    "import matplotlib.pyplot as plt\n",
    "%matplotlib inline\n",
    "import numpy as np\n",
    "import seaborn as sns\n",
    "# Put the confusion matrix in a data frame\n",
    "df = pd.DataFrame(confusion_matrix(y_test,gbc.predict(X_test)), columns=np.unique(y_test), index=np.unique(y_test))\n",
    "# Change the index name to 'Actual'\n",
    "df.index.name = 'Actual'\n",
    "# Change the columns name to 'Predicted'\n",
    "df.columns.name = 'Predicted'\n",
    "# Make the figure size (10,7)\n",
    "plt.figure(figsize=(10,7))\n",
    "# Set the font_scale to 1.4\n",
    "sns.set(font_scale=1.4)\n",
    "# Use the heatmap to visualize the categorical accuracy\n",
    "sns.heatmap(df, cmap='Blues', annot=True, annot_kws={'size':16}, fmt='g')"
   ]
  }
 ],
 "metadata": {
  "environment": {
   "name": "tf2-gpu.2-3.m65",
   "type": "gcloud",
   "uri": "gcr.io/deeplearning-platform-release/tf2-gpu.2-3:m65"
  },
  "kernelspec": {
   "display_name": "Python 3",
   "language": "python",
   "name": "python3"
  },
  "language_info": {
   "codemirror_mode": {
    "name": "ipython",
    "version": 3
   },
   "file_extension": ".py",
   "mimetype": "text/x-python",
   "name": "python",
   "nbconvert_exporter": "python",
   "pygments_lexer": "ipython3",
   "version": "3.8.10"
  }
 },
 "nbformat": 4,
 "nbformat_minor": 4
}
