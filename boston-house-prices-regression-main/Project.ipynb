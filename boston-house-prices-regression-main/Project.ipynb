{
 "cells": [
  {
   "cell_type": "markdown",
   "metadata": {},
   "source": [
    "<div style=\"width: 100%; background-color: #ef7d22; text-align: center\">\n",
    "<br><br>\n",
    "\n",
    "<h1 style=\"color: white; font-weight: bold;\">\n",
    "    Predict the prices of houses in Boston\n",
    "</h1>\n",
    "\n",
    "\n",
    "<br><br> \n",
    "</div>\n",
    "\n",
    "![boston-housing](https://user-images.githubusercontent.com/7065401/112419797-ca68fe80-8d0a-11eb-8f18-03381a6a1de8.png)\n",
    "\n",
    "<hr>"
   ]
  },
  {
   "cell_type": "code",
   "execution_count": 75,
   "metadata": {},
   "outputs": [],
   "source": [
    "import pickle\n",
    "\n",
    "import matplotlib.pyplot as plt\n",
    "import pandas as pd\n",
    "\n",
    "from dtreeviz.trees import dtreeviz\n",
    "import graphviz\n",
    "from IPython.display import Image\n",
    "\n",
    "from sklearn import datasets\n",
    "from sklearn.metrics import mean_absolute_error,mean_squared_error\n",
    "from sklearn.model_selection import RandomizedSearchCV,train_test_split\n",
    "from sklearn.preprocessing import LabelEncoder\n",
    "import pydotplus\n",
    "from sklearn import tree\n",
    "from sklearn.tree import DecisionTreeRegressor,plot_tree\n",
    "import random\n",
    "\n",
    "import warnings\n",
    "warnings.filterwarnings('ignore')"
   ]
  },
  {
   "cell_type": "markdown",
   "metadata": {},
   "source": [
    "# Step 1: Pull in your data"
   ]
  },
  {
   "cell_type": "code",
   "execution_count": 76,
   "metadata": {},
   "outputs": [
    {
     "data": {
      "text/plain": [
       "(506, 13)"
      ]
     },
     "execution_count": 76,
     "metadata": {},
     "output_type": "execute_result"
    }
   ],
   "source": [
    "# Pull in your data\n",
    "boston = datasets.load_boston()\n",
    "X = boston.data\n",
    "y = boston.target\n",
    "X.shape"
   ]
  },
  {
   "cell_type": "code",
   "execution_count": 77,
   "metadata": {},
   "outputs": [
    {
     "name": "stdout",
     "output_type": "stream",
     "text": [
      "['CRIM', 'ZN', 'INDUS', 'CHAS', 'NOX', 'RM', 'AGE', 'DIS', 'RAD', 'TAX', 'PTRATIO', 'B', 'LSTAT']\n"
     ]
    }
   ],
   "source": [
    "features = [str(f) for f in boston.feature_names]\n",
    "print(features)"
   ]
  },
  {
   "cell_type": "markdown",
   "metadata": {},
   "source": [
    "# Step 2: Split data into train and test data"
   ]
  },
  {
   "cell_type": "code",
   "execution_count": 78,
   "metadata": {},
   "outputs": [],
   "source": [
    "# Split data into test and train \n",
    "X_train, X_test, y_train, y_test = train_test_split(X, y, test_size=.2, random_state=42)"
   ]
  },
  {
   "cell_type": "markdown",
   "metadata": {},
   "source": [
    "# Step 3: Instantiate your machine learning class"
   ]
  },
  {
   "cell_type": "code",
   "execution_count": 79,
   "metadata": {},
   "outputs": [
    {
     "data": {
      "text/plain": [
       "{'min_samples_split': 4, 'min_samples_leaf': 7, 'max_depth': 7}"
      ]
     },
     "execution_count": 79,
     "metadata": {},
     "output_type": "execute_result"
    }
   ],
   "source": [
    "# This is where you set hyperparameters for model tuning\n",
    "# Create a hyperparameter distribution like we did in the lessons\n",
    "depth_list = [d for d in range(2,10)] + [None]\n",
    "params = {'max_depth': depth_list,\n",
    "          'min_samples_leaf': range(2,10),\n",
    "          'min_samples_split': range(2,10,2)}\n",
    "\n",
    "# Instantiate a decision tree regressor using criterion='mse' and set a random state\n",
    "dt = DecisionTreeRegressor(criterion='mse', random_state=42)\n",
    "\n",
    "# Instantiate a RandomSearchCV instance\n",
    "treecv = RandomizedSearchCV(dt, params, cv=6, random_state=42)\n",
    "\n",
    "# Fit the random search instance on train data\n",
    "treecv.fit(X_train, y_train)\n",
    "\n",
    "# Save the hyperparameters to a dictionary\n",
    "best_hps = treecv.best_params_\n",
    "best_hps"
   ]
  },
  {
   "cell_type": "code",
   "execution_count": 80,
   "metadata": {},
   "outputs": [],
   "source": [
    "# Use the best hyperparameters to instantiate a new regressor instance\n",
    "regressor = DecisionTreeRegressor(\n",
    "    criterion='mse',\n",
    "    random_state=42,\n",
    "    min_samples_split=best_hps['min_samples_split'],\n",
    "    min_samples_leaf=best_hps['min_samples_leaf'],\n",
    "    max_depth=best_hps['max_depth'])"
   ]
  },
  {
   "cell_type": "markdown",
   "metadata": {},
   "source": [
    "# Step 4: Fit the model on your training data"
   ]
  },
  {
   "cell_type": "code",
   "execution_count": 81,
   "metadata": {},
   "outputs": [
    {
     "data": {
      "text/plain": [
       "DecisionTreeRegressor(max_depth=7, min_samples_leaf=7, min_samples_split=4,\n",
       "                      random_state=42)"
      ]
     },
     "execution_count": 81,
     "metadata": {},
     "output_type": "execute_result"
    }
   ],
   "source": [
    "# Fit the classifier to the train data\n",
    "regressor.fit(X_train, y_train)"
   ]
  },
  {
   "cell_type": "markdown",
   "metadata": {},
   "source": [
    "# Step 5: Make predictions on the train and test data"
   ]
  },
  {
   "cell_type": "code",
   "execution_count": 82,
   "metadata": {},
   "outputs": [],
   "source": [
    "# Now we need can test how well the model works on unseen data using the test set\n",
    "# Predict on the train data\n",
    "y_pred_train = regressor.predict(X_train)\n",
    "# Predict on the test data\n",
    "y_pred_test = regressor.predict(X_test)"
   ]
  },
  {
   "cell_type": "markdown",
   "metadata": {},
   "source": [
    "# Step 6: Evaluate model performance"
   ]
  },
  {
   "cell_type": "code",
   "execution_count": 83,
   "metadata": {},
   "outputs": [
    {
     "data": {
      "text/plain": [
       "6.809283403587883"
      ]
     },
     "execution_count": 83,
     "metadata": {},
     "output_type": "execute_result"
    }
   ],
   "source": [
    "# Get the baseline accuracy - for continuous targets that means always predicting the training mean\n",
    "# Look at the training mean\n",
    "y_train.mean()\n",
    "\n",
    "# Get the mean_absolute_error of predicting the mean\n",
    "mean_absolute_error(y_train,[y_train.mean()]*len(y_train))"
   ]
  },
  {
   "cell_type": "code",
   "execution_count": 84,
   "metadata": {},
   "outputs": [
    {
     "data": {
      "text/plain": [
       "2.165651190119012"
      ]
     },
     "execution_count": 84,
     "metadata": {},
     "output_type": "execute_result"
    }
   ],
   "source": [
    "# Calculate training error\n",
    "mean_absolute_error(y_train,y_pred_train)"
   ]
  },
  {
   "cell_type": "code",
   "execution_count": 85,
   "metadata": {},
   "outputs": [
    {
     "data": {
      "text/plain": [
       "2.8526070787792244"
      ]
     },
     "execution_count": 85,
     "metadata": {},
     "output_type": "execute_result"
    }
   ],
   "source": [
    "# Calculate testing error\n",
    "mean_absolute_error(y_test,y_pred_test)"
   ]
  },
  {
   "cell_type": "markdown",
   "metadata": {},
   "source": [
    "# Step 7: Cost-Complexity Pruning"
   ]
  },
  {
   "cell_type": "code",
   "execution_count": 86,
   "metadata": {},
   "outputs": [
    {
     "data": {
      "text/plain": [
       "31"
      ]
     },
     "execution_count": 86,
     "metadata": {},
     "output_type": "execute_result"
    }
   ],
   "source": [
    "# Get a list of alphas to test\n",
    "path = regressor.cost_complexity_pruning_path(X_train,y_train)\n",
    "# path has a ccp_alphas attribute and an impurities attribute\n",
    "len(path.ccp_alphas)"
   ]
  },
  {
   "cell_type": "code",
   "execution_count": 87,
   "metadata": {},
   "outputs": [
    {
     "data": {
      "text/plain": [
       "31"
      ]
     },
     "execution_count": 87,
     "metadata": {},
     "output_type": "execute_result"
    }
   ],
   "source": [
    "# Get a list of models for each alpha\n",
    "models = list()\n",
    "for ccp_alphas in path.ccp_alphas:\n",
    "    reg_temp = DecisionTreeRegressor(criterion='mse',\n",
    "                                     random_state=42,\n",
    "                                     ccp_alpha=ccp_alphas)\n",
    "    reg_temp.fit(X_train, y_train)\n",
    "    models.append(reg_temp)\n",
    "len(models)"
   ]
  },
  {
   "cell_type": "code",
   "execution_count": 88,
   "metadata": {},
   "outputs": [],
   "source": [
    "# We know we never want a tree with one node.  We will always remove this model which is the last tree/alpha\n",
    "ccp_alphas = path.ccp_alphas[:-1]\n",
    "models = models[:-1]"
   ]
  },
  {
   "cell_type": "code",
   "execution_count": 89,
   "metadata": {},
   "outputs": [
    {
     "name": "stdout",
     "output_type": "stream",
     "text": [
      "30 30\n"
     ]
    }
   ],
   "source": [
    "print(len(ccp_alphas),len(models))"
   ]
  },
  {
   "cell_type": "code",
   "execution_count": 98,
   "metadata": {},
   "outputs": [
    {
     "data": {
      "image/png": "[encoded data removed]",
      "text/plain": [
       "<Figure size 432x288 with 1 Axes>"
      ]
     },
     "metadata": {
      "needs_background": "light"
     },
     "output_type": "display_data"
    }
   ],
   "source": [
    "# Plot the number of nodes and depth for each model with the corresponding alpha\n",
    "nodes_counts = [reg_temp.tree_.node_count for reg_temp in models]\n",
    "depths = [reg_temp.tree_.max_depth for reg_temp in models]\n",
    "plt.scatter(ccp_alphas,nodes_counts)\n",
    "plt.scatter(ccp_alphas,depths)\n",
    "plt.plot(ccp_alphas,nodes_counts,label='num nodes',drawstyle='steps-post')\n",
    "plt.plot(ccp_alphas,depths,label='depth',drawstyle='steps-post')\n",
    "plt.legend()\n",
    "plt.show()"
   ]
  },
  {
   "cell_type": "code",
   "execution_count": 100,
   "metadata": {},
   "outputs": [],
   "source": [
    "# Visualize our train and test accuracy with different values of alpha\n",
    "# Get lists of training errors and testing errors\n",
    "train_err = list()\n",
    "test_err = list()\n",
    "for reg_temp in models:\n",
    "    y_pred_train = reg_temp.predict(X_train)\n",
    "    y_pred_test = reg_temp.predict(X_test)\n",
    "    train_err.append(mean_absolute_error(y_pred_train, y_train))\n",
    "    test_err.append(mean_absolute_error(y_pred_test, y_test))"
   ]
  },
  {
   "cell_type": "code",
   "execution_count": 104,
   "metadata": {},
   "outputs": [
    {
     "data": {
      "image/png": "[encoded data removed]",
      "text/plain": [
       "<Figure size 432x288 with 1 Axes>"
      ]
     },
     "metadata": {
      "needs_background": "light"
     },
     "output_type": "display_data"
    }
   ],
   "source": [
    "# Plot the errors with corresponding alphas\n",
    "plt.scatter(ccp_alphas,train_err)\n",
    "plt.scatter(ccp_alphas,test_err)\n",
    "plt.plot(ccp_alphas,train_err,label='train_error',drawstyle='steps-post')\n",
    "plt.plot(ccp_alphas,test_err,label='test_error',drawstyle='steps-post')\n",
    "plt.legend()\n",
    "plt.title('Error vs Alpha')\n",
    "plt.show()"
   ]
  },
  {
   "cell_type": "code",
   "execution_count": 106,
   "metadata": {},
   "outputs": [],
   "source": [
    "# Print the errors with the alphas - look for the lowest error and choose that alpha as the best\n",
    "# You can do this visually or with a loop\n",
    "import heapq\n",
    "sorted = list()\n",
    "for err, alph in zip(test_err, ccp_alphas):\n",
    "    heapq.heappush(sorted,(err,alph))\n",
    "best_alpha = heapq.heappop(sorted)[1]"
   ]
  },
  {
   "cell_type": "code",
   "execution_count": null,
   "metadata": {},
   "outputs": [],
   "source": [
    "# Option for choosing the lowest with a loop\n"
   ]
  },
  {
   "cell_type": "code",
   "execution_count": 107,
   "metadata": {},
   "outputs": [],
   "source": [
    "# Instantiate a new regressor with the best hyperparameters and the best alpha\n",
    "regressor = DecisionTreeRegressor(criterion='mse',\n",
    "                                  random_state=42,\n",
    "                                  min_samples_split=best_hps['min_samples_split'],\n",
    "                                  min_samples_leaf=best_hps['min_samples_leaf'],\n",
    "                                  max_depth=best_hps['max_depth'],\n",
    "                                  ccp_alpha=best_alpha)"
   ]
  },
  {
   "cell_type": "code",
   "execution_count": 108,
   "metadata": {},
   "outputs": [
    {
     "data": {
      "text/plain": [
       "DecisionTreeRegressor(ccp_alpha=0.1638218788984283, max_depth=7,\n",
       "                      min_samples_leaf=7, min_samples_split=4, random_state=42)"
      ]
     },
     "execution_count": 108,
     "metadata": {},
     "output_type": "execute_result"
    }
   ],
   "source": [
    "# Fit the regressor to the train data\n",
    "regressor.fit(X_train, y_train)"
   ]
  },
  {
   "cell_type": "code",
   "execution_count": 109,
   "metadata": {},
   "outputs": [],
   "source": [
    "# Predict on train and test to see new model scores\n",
    "y_pred_train = regressor.predict(X_train)\n",
    "y_pred_test = regressor.predict(X_test)"
   ]
  },
  {
   "cell_type": "code",
   "execution_count": 110,
   "metadata": {},
   "outputs": [
    {
     "data": {
      "text/plain": [
       "2.3969763151850176"
      ]
     },
     "execution_count": 110,
     "metadata": {},
     "output_type": "execute_result"
    }
   ],
   "source": [
    "# New training error\n",
    "mean_absolute_error(y_train,y_pred_train)"
   ]
  },
  {
   "cell_type": "code",
   "execution_count": 111,
   "metadata": {},
   "outputs": [
    {
     "data": {
      "text/plain": [
       "2.8273599933300657"
      ]
     },
     "execution_count": 111,
     "metadata": {},
     "output_type": "execute_result"
    }
   ],
   "source": [
    "# New testing error\n",
    "mean_absolute_error(y_test,y_pred_test)"
   ]
  },
  {
   "cell_type": "markdown",
   "metadata": {},
   "source": [
    "## We have improved our testing error - the old score was ~2.85 and the new score is ~2.83"
   ]
  },
  {
   "cell_type": "code",
   "execution_count": 112,
   "metadata": {},
   "outputs": [
    {
     "name": "stdout",
     "output_type": "stream",
     "text": [
      "CRIM,ZN,INDUS,CHAS,NOX,RM,AGE,DIS,RAD,TAX,PTRATIO,B,LSTAT\n"
     ]
    }
   ],
   "source": [
    "# Write out your model and data to use in the next project - Visualization\n",
    "pickle.dump(regressor,open('data/reg_model.pkl','wb'))\n",
    "pd.DataFrame(X_train).to_csv('data/boston_X_train.csv',index=False)\n",
    "pd.DataFrame(y_train).to_csv('data/boston_y_train.csv',index=False)\n",
    "with open('data/boston_features.txt','w') as f:\n",
    "    feat_str = ','.join(features)\n",
    "    print(feat_str)\n",
    "    f.write(feat_str)"
   ]
  }
 ],
 "metadata": {
  "kernelspec": {
   "display_name": "Python 3",
   "language": "python",
   "name": "python3"
  },
  "language_info": {
   "codemirror_mode": {
    "name": "ipython",
    "version": 3
   },
   "file_extension": ".py",
   "mimetype": "text/x-python",
   "name": "python",
   "nbconvert_exporter": "python",
   "pygments_lexer": "ipython3",
   "version": "3.8.10"
  }
 },
 "nbformat": 4,
 "nbformat_minor": 4
}
