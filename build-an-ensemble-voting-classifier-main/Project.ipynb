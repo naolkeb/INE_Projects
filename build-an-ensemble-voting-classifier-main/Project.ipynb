{
 "cells": [
  {
   "cell_type": "markdown",
   "metadata": {
    "slideshow": {
     "slide_type": "slide"
    }
   },
   "source": [
    "<div style=\"width: 100%; background-color: #222; text-align: center\">\n",
    "<br><br>\n",
    "\n",
    "<h1 style=\"color: white; font-weight: bold;\">\n",
    "    Project\n",
    "</h1>\n",
    "    \n",
    "<h3 style=\"color: #ef7d22; font-weight: normal;\">\n",
    "    Build an ensemble voting classifier\n",
    "</h3>\n",
    "\n",
    "<br><br> \n",
    "</div>\n",
    "\n",
    "![orange-divider](https://user-images.githubusercontent.com/7065401/98619088-44ab6000-22e1-11eb-8f6d-5532e68ab274.png)"
   ]
  },
  {
   "cell_type": "code",
   "execution_count": 1,
   "metadata": {},
   "outputs": [],
   "source": [
    "# Import packages\n",
    "import numpy as np\n",
    "import pandas as pd\n",
    "\n",
    "import matplotlib.pyplot as plt\n",
    "\n",
    "from sklearn.datasets import load_iris\n",
    "from sklearn.linear_model import LogisticRegression\n",
    "from sklearn.naive_bayes import GaussianNB\n",
    "from sklearn.neural_network import MLPClassifier\n",
    "from sklearn.tree import DecisionTreeClassifier\n",
    "from sklearn.ensemble import StackingClassifier,VotingClassifier\n",
    "from sklearn.model_selection import train_test_split\n",
    "from sklearn.preprocessing import Normalizer,StandardScaler\n",
    "\n",
    "import warnings\n",
    "warnings.filterwarnings('ignore')"
   ]
  },
  {
   "cell_type": "code",
   "execution_count": 6,
   "metadata": {},
   "outputs": [
    {
     "data": {
      "text/plain": [
       "DecisionTreeClassifier(random_state=42)"
      ]
     },
     "execution_count": 6,
     "metadata": {},
     "output_type": "execute_result"
    }
   ],
   "source": [
    "# Load the data using the load_iris method from sklearn\n",
    "X, y = load_iris(return_X_y=True)\n",
    "\n",
    "# Split data into test and train - stratify on y\n",
    "X_train,X_test,y_train,y_test = train_test_split(X, y, stratify=y, test_size=.2, random_state=42)\n",
    "\n",
    "# Normalize and Scale numeric data\n",
    "stsc = StandardScaler()\n",
    "norm = Normalizer()\n",
    "\n",
    "X_train_norm = norm.fit_transform(X_train)\n",
    "X_train_scaled = stsc.fit_transform(X_train_norm)\n",
    "\n",
    "X_test_norm = norm.transform(X_test)\n",
    "X_test_scaled = stsc.transform(X_test_norm)\n",
    "\n",
    "# Train 3 classifiers (the solutions use GaussianNB, MLPClassifier and DecisionTreeClassfier, but you may use any you wish)\n",
    "gaus = GaussianNB()\n",
    "mlpc = MLPClassifier(random_state=42)\n",
    "dtc = DecisionTreeClassifier(random_state=42)\n",
    "\n",
    "# Fit the 3 base classifiers on train data\n",
    "gaus.fit(X_train_scaled, y_train)\n",
    "mlpc.fit(X_train_scaled, y_train)\n",
    "dtc.fit(X_train_scaled, y_train)"
   ]
  },
  {
   "cell_type": "code",
   "execution_count": 7,
   "metadata": {},
   "outputs": [
    {
     "data": {
      "text/plain": [
       "VotingClassifier(estimators=[('gaus', GaussianNB()),\n",
       "                             ('mlpc', MLPClassifier(random_state=42)),\n",
       "                             ('dtc', DecisionTreeClassifier(random_state=42))],\n",
       "                 n_jobs=-1, voting='soft')"
      ]
     },
     "execution_count": 7,
     "metadata": {},
     "output_type": "execute_result"
    }
   ],
   "source": [
    "# Instantiate the VotingClassifier using the 3 base classifiers\n",
    "vt = VotingClassifier([('gaus',gaus),('mlpc',mlpc),('dtc',dtc)],voting='soft',n_jobs=-1)\n",
    "# Fit the voting classifier to the train data\n",
    "vt.fit(X_train_scaled,y_train)"
   ]
  },
  {
   "cell_type": "code",
   "execution_count": 8,
   "metadata": {},
   "outputs": [
    {
     "data": {
      "text/plain": [
       "(0.975, 0.9583333333333334, 1.0)"
      ]
     },
     "execution_count": 8,
     "metadata": {},
     "output_type": "execute_result"
    }
   ],
   "source": [
    "# Check scores for training accuracy on all 3 base estimators\n",
    "gaus.score(X_train_scaled, y_train),mlpc.score(X_train_scaled, y_train),dtc.score(X_train_scaled, y_train)"
   ]
  },
  {
   "cell_type": "code",
   "execution_count": 9,
   "metadata": {},
   "outputs": [
    {
     "data": {
      "text/plain": [
       "(0.9666666666666667, 0.9666666666666667, 0.9666666666666667)"
      ]
     },
     "execution_count": 9,
     "metadata": {},
     "output_type": "execute_result"
    }
   ],
   "source": [
    "# Check scores for all 3 base estimators on test data\n",
    "gaus.score(X_test_scaled, y_test),mlpc.score(X_test_scaled, y_test),dtc.score(X_test_scaled, y_test)"
   ]
  },
  {
   "cell_type": "code",
   "execution_count": 11,
   "metadata": {},
   "outputs": [
    {
     "data": {
      "text/plain": [
       "(0.9833333333333333, 0.9666666666666667)"
      ]
     },
     "execution_count": 11,
     "metadata": {},
     "output_type": "execute_result"
    }
   ],
   "source": [
    "# Check train and test accuracy on the ensemble classifier\n",
    "vt.score(X_train_scaled,y_train),vt.score(X_test_scaled,y_test)"
   ]
  },
  {
   "cell_type": "code",
   "execution_count": 15,
   "metadata": {},
   "outputs": [
    {
     "data": {
      "text/plain": [
       "(0.9833333333333333, 0.9666666666666667)"
      ]
     },
     "execution_count": 15,
     "metadata": {},
     "output_type": "execute_result"
    }
   ],
   "source": [
    "## Use the StackingClassifier on this data to see if there is an improvement on performance\n",
    "# Create a list of tuples with the 3 base estimators\n",
    "estimators = [('nbc',GaussianNB()),\n",
    "              ('mlpc',MLPClassifier(random_state=42)),\n",
    "              ('dtc',DecisionTreeClassifier(random_state=42))]\n",
    "\n",
    "# Instatiate the stacking classifier\n",
    "stack = StackingClassifier(estimators=estimators,\n",
    "                           final_estimator=MLPClassifier(random_state=42),\n",
    "                           cv=3)\n",
    "\n",
    "\n",
    "\n",
    "# Fit the stacking classifier to the train data\n",
    "stack.fit(X_train_scaled,y_train)\n",
    "# Get the scores for train and test data\n",
    "stack.score(X_train_scaled,y_train),stack.score(X_test_scaled,y_test)"
   ]
  }
 ],
 "metadata": {
  "environment": {
   "name": "tf2-gpu.2-3.m65",
   "type": "gcloud",
   "uri": "gcr.io/deeplearning-platform-release/tf2-gpu.2-3:m65"
  },
  "kernelspec": {
   "display_name": "Python 3",
   "language": "python",
   "name": "python3"
  },
  "language_info": {
   "codemirror_mode": {
    "name": "ipython",
    "version": 3
   },
   "file_extension": ".py",
   "mimetype": "text/x-python",
   "name": "python",
   "nbconvert_exporter": "python",
   "pygments_lexer": "ipython3",
   "version": "3.8.10"
  }
 },
 "nbformat": 4,
 "nbformat_minor": 4
}
