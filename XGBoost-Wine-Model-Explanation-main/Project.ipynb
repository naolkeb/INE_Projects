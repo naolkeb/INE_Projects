{
 "cells": [
  {
   "cell_type": "markdown",
   "metadata": {
    "slideshow": {
     "slide_type": "slide"
    }
   },
   "source": [
    "<div style=\"width: 100%; background-color: #222; text-align: center\">\n",
    "<br><br>\n",
    "\n",
    "<h1 style=\"color: white; font-weight: bold;\">\n",
    "    Project\n",
    "</h1>\n",
    "    \n",
    "<h3 style=\"color: #ef7d22; font-weight: normal;\">\n",
    "    XGBoost Wine Model Explanation\n",
    "</h3>\n",
    "\n",
    "<br><br> \n",
    "</div>\n",
    "\n",
    "![orange-divider](https://user-images.githubusercontent.com/7065401/98619088-44ab6000-22e1-11eb-8f6d-5532e68ab274.png)"
   ]
  },
  {
   "cell_type": "code",
   "execution_count": 1,
   "metadata": {},
   "outputs": [],
   "source": [
    "import warnings\n",
    "warnings.filterwarnings('ignore')"
   ]
  },
  {
   "cell_type": "code",
   "execution_count": 2,
   "metadata": {},
   "outputs": [],
   "source": [
    "# Import installed packages\n",
    "import matplotlib.pyplot as plt\n",
    "%matplotlib inline\n",
    "import numpy as np\n",
    "import pandas as pd\n",
    "import seaborn as sns\n",
    "\n",
    "# Import sklearn packages\n",
    "from sklearn.inspection import permutation_importance\n",
    "from sklearn.datasets import load_wine\n",
    "from sklearn.metrics import accuracy_score,confusion_matrix\n",
    "from sklearn.model_selection import train_test_split,RandomizedSearchCV\n",
    "from sklearn.preprocessing import Normalizer,StandardScaler\n",
    "\n",
    "# Import xgboost packages\n",
    "import xgboost as xgb\n",
    "from xgboost import XGBClassifier"
   ]
  },
  {
   "cell_type": "code",
   "execution_count": 6,
   "metadata": {},
   "outputs": [],
   "source": [
    "# Load the wine dataset from Scikit-Learn\n",
    "X, y = load_wine(return_X_y=True)\n",
    "data=load_wine()"
   ]
  },
  {
   "cell_type": "code",
   "execution_count": 7,
   "metadata": {},
   "outputs": [
    {
     "name": "stdout",
     "output_type": "stream",
     "text": [
      ".. _wine_dataset:\n",
      "\n",
      "Wine recognition dataset\n",
      "------------------------\n",
      "\n",
      "**Data Set Characteristics:**\n",
      "\n",
      "    :Number of Instances: 178 (50 in each of three classes)\n",
      "    :Number of Attributes: 13 numeric, predictive attributes and the class\n",
      "    :Attribute Information:\n",
      " \t\t- Alcohol\n",
      " \t\t- Malic acid\n",
      " \t\t- Ash\n",
      "\t\t- Alcalinity of ash  \n",
      " \t\t- Magnesium\n",
      "\t\t- Total phenols\n",
      " \t\t- Flavanoids\n",
      " \t\t- Nonflavanoid phenols\n",
      " \t\t- Proanthocyanins\n",
      "\t\t- Color intensity\n",
      " \t\t- Hue\n",
      " \t\t- OD280/OD315 of diluted wines\n",
      " \t\t- Proline\n",
      "\n",
      "    - class:\n",
      "            - class_0\n",
      "            - class_1\n",
      "            - class_2\n",
      "\t\t\n",
      "    :Summary Statistics:\n",
      "    \n",
      "    ============================= ==== ===== ======= =====\n",
      "                                   Min   Max   Mean     SD\n",
      "    ============================= ==== ===== ======= =====\n",
      "    Alcohol:                      11.0  14.8    13.0   0.8\n",
      "    Malic Acid:                   0.74  5.80    2.34  1.12\n",
      "    Ash:                          1.36  3.23    2.36  0.27\n",
      "    Alcalinity of Ash:            10.6  30.0    19.5   3.3\n",
      "    Magnesium:                    70.0 162.0    99.7  14.3\n",
      "    Total Phenols:                0.98  3.88    2.29  0.63\n",
      "    Flavanoids:                   0.34  5.08    2.03  1.00\n",
      "    Nonflavanoid Phenols:         0.13  0.66    0.36  0.12\n",
      "    Proanthocyanins:              0.41  3.58    1.59  0.57\n",
      "    Colour Intensity:              1.3  13.0     5.1   2.3\n",
      "    Hue:                          0.48  1.71    0.96  0.23\n",
      "    OD280/OD315 of diluted wines: 1.27  4.00    2.61  0.71\n",
      "    Proline:                       278  1680     746   315\n",
      "    ============================= ==== ===== ======= =====\n",
      "\n",
      "    :Missing Attribute Values: None\n",
      "    :Class Distribution: class_0 (59), class_1 (71), class_2 (48)\n",
      "    :Creator: R.A. Fisher\n",
      "    :Donor: Michael Marshall (MARSHALL%PLU@io.arc.nasa.gov)\n",
      "    :Date: July, 1988\n",
      "\n",
      "This is a copy of UCI ML Wine recognition datasets.\n",
      "https://archive.ics.uci.edu/ml/machine-learning-databases/wine/wine.data\n",
      "\n",
      "The data is the results of a chemical analysis of wines grown in the same\n",
      "region in Italy by three different cultivators. There are thirteen different\n",
      "measurements taken for different constituents found in the three types of\n",
      "wine.\n",
      "\n",
      "Original Owners: \n",
      "\n",
      "Forina, M. et al, PARVUS - \n",
      "An Extendible Package for Data Exploration, Classification and Correlation. \n",
      "Institute of Pharmaceutical and Food Analysis and Technologies,\n",
      "Via Brigata Salerno, 16147 Genoa, Italy.\n",
      "\n",
      "Citation:\n",
      "\n",
      "Lichman, M. (2013). UCI Machine Learning Repository\n",
      "[https://archive.ics.uci.edu/ml]. Irvine, CA: University of California,\n",
      "School of Information and Computer Science. \n",
      "\n",
      ".. topic:: References\n",
      "\n",
      "  (1) S. Aeberhard, D. Coomans and O. de Vel, \n",
      "  Comparison of Classifiers in High Dimensional Settings, \n",
      "  Tech. Rep. no. 92-02, (1992), Dept. of Computer Science and Dept. of  \n",
      "  Mathematics and Statistics, James Cook University of North Queensland. \n",
      "  (Also submitted to Technometrics). \n",
      "\n",
      "  The data was used with many others for comparing various \n",
      "  classifiers. The classes are separable, though only RDA \n",
      "  has achieved 100% correct classification. \n",
      "  (RDA : 100%, QDA 99.4%, LDA 98.9%, 1NN 96.1% (z-transformed data)) \n",
      "  (All results using the leave-one-out technique) \n",
      "\n",
      "  (2) S. Aeberhard, D. Coomans and O. de Vel, \n",
      "  \"THE CLASSIFICATION PERFORMANCE OF RDA\" \n",
      "  Tech. Rep. no. 92-01, (1992), Dept. of Computer Science and Dept. of \n",
      "  Mathematics and Statistics, James Cook University of North Queensland. \n",
      "  (Also submitted to Journal of Chemometrics).\n",
      "\n"
     ]
    }
   ],
   "source": [
    "# Use the built-in attribute to describe the data\n",
    "for line in data.DESCR.split('\\n'):\n",
    "    print(line)"
   ]
  },
  {
   "cell_type": "code",
   "execution_count": 10,
   "metadata": {},
   "outputs": [
    {
     "data": {
      "text/html": [
       "<div>\n",
       "<style scoped>\n",
       "    .dataframe tbody tr th:only-of-type {\n",
       "        vertical-align: middle;\n",
       "    }\n",
       "\n",
       "    .dataframe tbody tr th {\n",
       "        vertical-align: top;\n",
       "    }\n",
       "\n",
       "    .dataframe thead th {\n",
       "        text-align: right;\n",
       "    }\n",
       "</style>\n",
       "<table border=\"1\" class=\"dataframe\">\n",
       "  <thead>\n",
       "    <tr style=\"text-align: right;\">\n",
       "      <th></th>\n",
       "      <th>alcohol</th>\n",
       "      <th>malic_acid</th>\n",
       "      <th>ash</th>\n",
       "      <th>alcalinity_of_ash</th>\n",
       "      <th>magnesium</th>\n",
       "      <th>total_phenols</th>\n",
       "      <th>flavanoids</th>\n",
       "      <th>nonflavanoid_phenols</th>\n",
       "      <th>proanthocyanins</th>\n",
       "      <th>color_intensity</th>\n",
       "      <th>hue</th>\n",
       "      <th>od280/od315_of_diluted_wines</th>\n",
       "      <th>proline</th>\n",
       "    </tr>\n",
       "  </thead>\n",
       "  <tbody>\n",
       "    <tr>\n",
       "      <th>0</th>\n",
       "      <td>14.23</td>\n",
       "      <td>1.71</td>\n",
       "      <td>2.43</td>\n",
       "      <td>15.6</td>\n",
       "      <td>127.0</td>\n",
       "      <td>2.80</td>\n",
       "      <td>3.06</td>\n",
       "      <td>0.28</td>\n",
       "      <td>2.29</td>\n",
       "      <td>5.64</td>\n",
       "      <td>1.04</td>\n",
       "      <td>3.92</td>\n",
       "      <td>1065.0</td>\n",
       "    </tr>\n",
       "    <tr>\n",
       "      <th>1</th>\n",
       "      <td>13.20</td>\n",
       "      <td>1.78</td>\n",
       "      <td>2.14</td>\n",
       "      <td>11.2</td>\n",
       "      <td>100.0</td>\n",
       "      <td>2.65</td>\n",
       "      <td>2.76</td>\n",
       "      <td>0.26</td>\n",
       "      <td>1.28</td>\n",
       "      <td>4.38</td>\n",
       "      <td>1.05</td>\n",
       "      <td>3.40</td>\n",
       "      <td>1050.0</td>\n",
       "    </tr>\n",
       "    <tr>\n",
       "      <th>2</th>\n",
       "      <td>13.16</td>\n",
       "      <td>2.36</td>\n",
       "      <td>2.67</td>\n",
       "      <td>18.6</td>\n",
       "      <td>101.0</td>\n",
       "      <td>2.80</td>\n",
       "      <td>3.24</td>\n",
       "      <td>0.30</td>\n",
       "      <td>2.81</td>\n",
       "      <td>5.68</td>\n",
       "      <td>1.03</td>\n",
       "      <td>3.17</td>\n",
       "      <td>1185.0</td>\n",
       "    </tr>\n",
       "    <tr>\n",
       "      <th>3</th>\n",
       "      <td>14.37</td>\n",
       "      <td>1.95</td>\n",
       "      <td>2.50</td>\n",
       "      <td>16.8</td>\n",
       "      <td>113.0</td>\n",
       "      <td>3.85</td>\n",
       "      <td>3.49</td>\n",
       "      <td>0.24</td>\n",
       "      <td>2.18</td>\n",
       "      <td>7.80</td>\n",
       "      <td>0.86</td>\n",
       "      <td>3.45</td>\n",
       "      <td>1480.0</td>\n",
       "    </tr>\n",
       "    <tr>\n",
       "      <th>4</th>\n",
       "      <td>13.24</td>\n",
       "      <td>2.59</td>\n",
       "      <td>2.87</td>\n",
       "      <td>21.0</td>\n",
       "      <td>118.0</td>\n",
       "      <td>2.80</td>\n",
       "      <td>2.69</td>\n",
       "      <td>0.39</td>\n",
       "      <td>1.82</td>\n",
       "      <td>4.32</td>\n",
       "      <td>1.04</td>\n",
       "      <td>2.93</td>\n",
       "      <td>735.0</td>\n",
       "    </tr>\n",
       "  </tbody>\n",
       "</table>\n",
       "</div>"
      ],
      "text/plain": [
       "   alcohol  malic_acid   ash  alcalinity_of_ash  magnesium  total_phenols  \\\n",
       "0    14.23        1.71  2.43               15.6      127.0           2.80   \n",
       "1    13.20        1.78  2.14               11.2      100.0           2.65   \n",
       "2    13.16        2.36  2.67               18.6      101.0           2.80   \n",
       "3    14.37        1.95  2.50               16.8      113.0           3.85   \n",
       "4    13.24        2.59  2.87               21.0      118.0           2.80   \n",
       "\n",
       "   flavanoids  nonflavanoid_phenols  proanthocyanins  color_intensity   hue  \\\n",
       "0        3.06                  0.28             2.29             5.64  1.04   \n",
       "1        2.76                  0.26             1.28             4.38  1.05   \n",
       "2        3.24                  0.30             2.81             5.68  1.03   \n",
       "3        3.49                  0.24             2.18             7.80  0.86   \n",
       "4        2.69                  0.39             1.82             4.32  1.04   \n",
       "\n",
       "   od280/od315_of_diluted_wines  proline  \n",
       "0                          3.92   1065.0  \n",
       "1                          3.40   1050.0  \n",
       "2                          3.17   1185.0  \n",
       "3                          3.45   1480.0  \n",
       "4                          2.93    735.0  "
      ]
     },
     "execution_count": 10,
     "metadata": {},
     "output_type": "execute_result"
    }
   ],
   "source": [
    "# Put the data in a dataframe and have a look at it\n",
    "df = pd.DataFrame(data['data'],columns=data['feature_names'])\n",
    "\n",
    "# Show the first 5 rows of data\n",
    "df.head()"
   ]
  },
  {
   "cell_type": "code",
   "execution_count": 15,
   "metadata": {},
   "outputs": [],
   "source": [
    "# Split the data into train and validate (this is a toy set and really to small for text and validate)\n",
    "X_train, X_val, y_train, y_val = train_test_split(X,y,stratify=y,test_size=.2,random_state=42)"
   ]
  },
  {
   "cell_type": "code",
   "execution_count": 16,
   "metadata": {},
   "outputs": [],
   "source": [
    "# Because all of the features are continuous, and because XGBoost uses some linear techniques . . .\n",
    "# This data will likely benefit from standardization and transformation (see feature engineering course for more on this)\n",
    "# Normalize and Scale numeric data\n",
    "\n",
    "# Instantiate the normalizer\n",
    "norm = Normalizer()\n",
    "\n",
    "# Instantiate the standard scaler\n",
    "scaler = StandardScaler()\n",
    "\n",
    "# Normalize the train data\n",
    "X_train_norm = norm.fit_transform(X_train)\n",
    "# Scale the normalized train data\n",
    "X_train_scaled = scaler.fit_transform(X_train_norm)\n",
    "\n",
    "# Normalize the validation data\n",
    "X_val_norm = norm.transform(X_val)\n",
    "# Scale the normalized validation data\n",
    "X_val_scaled = scaler.transform(X_val_norm)"
   ]
  },
  {
   "cell_type": "code",
   "execution_count": 23,
   "metadata": {},
   "outputs": [
    {
     "data": {
      "text/plain": [
       "<xgboost.core.DMatrix at 0x18d8075b3a0>"
      ]
     },
     "execution_count": 23,
     "metadata": {},
     "output_type": "execute_result"
    }
   ],
   "source": [
    "# In order to see feature names later, we'll put our data into xgboost.DMatrix\n",
    "# Load the scaled train data into xgb.DMatrix with feature names\n",
    "dtrain = xgb.DMatrix(X_train_scaled,label=y_train,feature_names=data.feature_names)\n",
    "# Load the scaled validation data into xgb.DMatrix with feature names\n",
    "dval = xgb.DMatrix(X_val_scaled,label=y_val,feature_names=data.feature_names)\n",
    "dtrain"
   ]
  },
  {
   "cell_type": "code",
   "execution_count": 24,
   "metadata": {},
   "outputs": [
    {
     "name": "stdout",
     "output_type": "stream",
     "text": [
      "[13:57:25] WARNING: C:/Users/Administrator/workspace/xgboost-win64_release_1.5.0/src/learner.cc:576: \n",
      "Parameters: { \"silent\" } might not be used.\n",
      "\n",
      "  This could be a false alarm, with some parameters getting used by language bindings but\n",
      "  then being mistakenly passed down to XGBoost core, or some parameter actually being used\n",
      "  but getting flagged wrongly here. Please open an issue if you find any such cases.\n",
      "\n",
      "\n",
      "[13:57:25] WARNING: C:/Users/Administrator/workspace/xgboost-win64_release_1.5.0/src/learner.cc:1115: Starting in XGBoost 1.3.0, the default evaluation metric used with the objective 'multi:softprob' was changed from 'merror' to 'mlogloss'. Explicitly set eval_metric if you'd like to restore the old behavior.\n"
     ]
    }
   ],
   "source": [
    "# Use these parameters to train an xgboost model\n",
    "params = {\n",
    "    'max_depth': 3,  # the maximum depth of each tree\n",
    "    'eta': 0.01,  # the training step for each iteration\n",
    "    'silent': 0,  # logging mode - quiet\n",
    "    'objective': 'multi:softprob',  # error evaluation for multiclass training\n",
    "    'num_class': 3}  # the number of classes that exist in this datset\n",
    "num_rounds = 20  # the number of training iterations\n",
    "\n",
    "# OPTIONAL CHALLENGE: use a search grid to optimize the model parameters\n",
    "model=xgb.train(params,dtrain,num_rounds)"
   ]
  },
  {
   "cell_type": "code",
   "execution_count": 25,
   "metadata": {},
   "outputs": [],
   "source": [
    "# Get the predictions on the training data and save the prediction with highest confidence to an array\n",
    "y_train_pred = np.asarray([np.argmax(line) for line in model.predict(dtrain)])\n",
    "# Get the predictions on the validation data and save the prediction with highest confidence to an array\n",
    "y_val_pred = np.asarray([np.argmax(line) for line in model.predict(dval)])"
   ]
  },
  {
   "cell_type": "code",
   "execution_count": 27,
   "metadata": {},
   "outputs": [
    {
     "data": {
      "text/plain": [
       "<AxesSubplot:xlabel='Predict', ylabel='Actual'>"
      ]
     },
     "execution_count": 27,
     "metadata": {},
     "output_type": "execute_result"
    },
    {
     "data": {
      "image/png": "[encoded data removed]",
      "text/plain": [
       "<Figure size 720x504 with 2 Axes>"
      ]
     },
     "metadata": {},
     "output_type": "display_data"
    }
   ],
   "source": [
    "# Use a seaborn heatmap to visualize the categorical accuracy on the test set\n",
    "# How is our model really performing?\n",
    "\n",
    "# Put the validation data and prediction into an sklearn confusion matrix\n",
    "cm = confusion_matrix(y_val,y_val_pred)\n",
    "\n",
    "\n",
    "# Create a dataframe from the confusion matrix\n",
    "df = pd.DataFrame(cm, columns=np.unique(y_val), index = np.unique(y_val))\n",
    "# Add a label to the y-axis of Actual (hint: this is the data frame index)\n",
    "df.index.name = 'Actual'\n",
    "# Add a label to the x-axis of Predicted (hint: this is the data frame columns)\n",
    "df.columns.name = 'Predict'\n",
    "# Create the heatmap plot\n",
    "plt.figure(figsize=(10,7))\n",
    "sns.set(font_scale=1.4)\n",
    "sns.heatmap(df, cmap='Blues', annot=True, annot_kws={'size': 16}, fmt='g')"
   ]
  },
  {
   "cell_type": "markdown",
   "metadata": {},
   "source": [
    "## How are XGBoost feature importances calculated?\n",
    "It depends.  \n",
    "By default, **\"gain\"** is used.  But there are several other options:\n",
    "* gain - essentially the same thing as measuring decrease in impurity\n",
    "* cover - calculating the number of observations impacted by a feature\n",
    "* weight or frequency - counting the number of times a feature is used in a split (not recommended)"
   ]
  },
  {
   "cell_type": "code",
   "execution_count": 39,
   "metadata": {},
   "outputs": [
    {
     "data": {
      "text/html": [
       "<div>\n",
       "<style scoped>\n",
       "    .dataframe tbody tr th:only-of-type {\n",
       "        vertical-align: middle;\n",
       "    }\n",
       "\n",
       "    .dataframe tbody tr th {\n",
       "        vertical-align: top;\n",
       "    }\n",
       "\n",
       "    .dataframe thead th {\n",
       "        text-align: right;\n",
       "    }\n",
       "</style>\n",
       "<table border=\"1\" class=\"dataframe\">\n",
       "  <thead>\n",
       "    <tr style=\"text-align: right;\">\n",
       "      <th></th>\n",
       "      <th>features</th>\n",
       "      <th>importances</th>\n",
       "    </tr>\n",
       "  </thead>\n",
       "  <tbody>\n",
       "    <tr>\n",
       "      <th>7</th>\n",
       "      <td>hue</td>\n",
       "      <td>34.371605</td>\n",
       "    </tr>\n",
       "    <tr>\n",
       "      <th>2</th>\n",
       "      <td>alcalinity_of_ash</td>\n",
       "      <td>24.196171</td>\n",
       "    </tr>\n",
       "    <tr>\n",
       "      <th>4</th>\n",
       "      <td>flavanoids</td>\n",
       "      <td>14.312180</td>\n",
       "    </tr>\n",
       "    <tr>\n",
       "      <th>6</th>\n",
       "      <td>color_intensity</td>\n",
       "      <td>5.481639</td>\n",
       "    </tr>\n",
       "    <tr>\n",
       "      <th>8</th>\n",
       "      <td>od280/od315_of_diluted_wines</td>\n",
       "      <td>3.284710</td>\n",
       "    </tr>\n",
       "  </tbody>\n",
       "</table>\n",
       "</div>"
      ],
      "text/plain": [
       "                       features  importances\n",
       "7                           hue    34.371605\n",
       "2             alcalinity_of_ash    24.196171\n",
       "4                    flavanoids    14.312180\n",
       "6               color_intensity     5.481639\n",
       "8  od280/od315_of_diluted_wines     3.284710"
      ]
     },
     "execution_count": 39,
     "metadata": {},
     "output_type": "execute_result"
    }
   ],
   "source": [
    "# Use the built-in XGBoost feature importance method\n",
    "# Create lists to hold features and importances\n",
    "features = list()\n",
    "importances = list()\n",
    "\n",
    "# Loop through the model scores and append the feature names and importance scores to the respective lists\n",
    "for k,v in model.get_score(importance_type='gain').items():\n",
    "    features.append(k)\n",
    "    importances.append(v)\n",
    "    \n",
    "# For easier viewing, put the features and their importances in a dataframe\n",
    "df_import = pd.DataFrame()\n",
    "df_import['features'] = features\n",
    "df_import['importances'] = importances\n",
    "# Sort the dataframe based on the importance scores so that the highest are at the top\n",
    "df_import.sort_values('importances',ascending=False,inplace=True)\n",
    "# View the data frame\n",
    "df_import.head()"
   ]
  },
  {
   "cell_type": "code",
   "execution_count": 40,
   "metadata": {},
   "outputs": [
    {
     "name": "stdout",
     "output_type": "stream",
     "text": [
      "[14:12:27] WARNING: C:/Users/Administrator/workspace/xgboost-win64_release_1.5.0/src/learner.cc:576: \n",
      "Parameters: { \"verbose\" } might not be used.\n",
      "\n",
      "  This could be a false alarm, with some parameters getting used by language bindings but\n",
      "  then being mistakenly passed down to XGBoost core, or some parameter actually being used\n",
      "  but getting flagged wrongly here. Please open an issue if you find any such cases.\n",
      "\n",
      "\n",
      "[14:12:27] WARNING: C:/Users/Administrator/workspace/xgboost-win64_release_1.5.0/src/learner.cc:1115: Starting in XGBoost 1.3.0, the default evaluation metric used with the objective 'multi:softprob' was changed from 'merror' to 'mlogloss'. Explicitly set eval_metric if you'd like to restore the old behavior.\n"
     ]
    },
    {
     "data": {
      "text/plain": [
       "1.0"
      ]
     },
     "execution_count": 40,
     "metadata": {},
     "output_type": "execute_result"
    }
   ],
   "source": [
    "# Scikit-Learn calculation based on validation data\n",
    "# Requires an xgboost object that uses .fit (can't be a booster)\n",
    "\n",
    "# Create a new xgboost model with these parameters\n",
    "best_params = {'subsample': 1.0,\n",
    "                 'n_estimators': 1000,\n",
    "                 'max_depth': 10,\n",
    "                 'learning_rate': 0.01,\n",
    "                 'gamma': 1,\n",
    "                 'colsample_bytree': 0.8}\n",
    "\n",
    "# OPTIONAL CHALLENGE: use a search grid to optimize parameters\n",
    "xgb_model = XGBClassifier(\n",
    "    verbose=True,\n",
    "    n_estimators=best_params['n_estimators'],\n",
    "    learning_rate=best_params['learning_rate'],\n",
    "    subsample=best_params['subsample'],\n",
    "    max_depth=best_params['max_depth'],\n",
    "    colsample_bytree=best_params['colsample_bytree'],\n",
    "    gamma=best_params['gamma']\n",
    ")\n",
    "\n",
    "# Fit the classifier on scaled train data\n",
    "xgb_model.fit(X_train_scaled,y_train)\n",
    "# Get the train score\n",
    "xgb_model.score(X_train_scaled,y_train)"
   ]
  },
  {
   "cell_type": "code",
   "execution_count": 41,
   "metadata": {},
   "outputs": [
    {
     "data": {
      "text/plain": [
       "0.9722222222222222"
      ]
     },
     "execution_count": 41,
     "metadata": {},
     "output_type": "execute_result"
    }
   ],
   "source": [
    "# Get the validation score\n",
    "xgb_model.score(X_val_scaled,y_val)"
   ]
  },
  {
   "cell_type": "code",
   "execution_count": 51,
   "metadata": {},
   "outputs": [],
   "source": [
    "# Get the Scikit-Learn permutation importance on validation data\n",
    "# Create a list to hold the most important features\n",
    "val_value_list = list()\n",
    "# Get the permutation importances\n",
    "r = permutation_importance(xgb_model, X_val_scaled, y_val,n_repeats=30,random_state=42)\n",
    "\n",
    "# Loop through the importances and append to the list you created above\n",
    "# (optional: print out the feature names and importances as you loop)\n",
    "for idx in r.importances_mean.argsort()[::-1]:\n",
    "    val_value_list.append(data.feature_names[idx])"
   ]
  },
  {
   "cell_type": "code",
   "execution_count": 52,
   "metadata": {},
   "outputs": [
    {
     "data": {
      "text/plain": [
       "['color_intensity',\n",
       " 'flavanoids',\n",
       " 'hue',\n",
       " 'alcalinity_of_ash',\n",
       " 'proline',\n",
       " 'od280/od315_of_diluted_wines',\n",
       " 'proanthocyanins',\n",
       " 'nonflavanoid_phenols',\n",
       " 'total_phenols',\n",
       " 'magnesium',\n",
       " 'ash',\n",
       " 'malic_acid',\n",
       " 'alcohol']"
      ]
     },
     "execution_count": 52,
     "metadata": {},
     "output_type": "execute_result"
    }
   ],
   "source": [
    "# Scikit-Learn calculation based on train data\n",
    "# Create a list to hold importance values\n",
    "train_value_list = list()\n",
    "# Get the permutation importances\n",
    "r = permutation_importance(xgb_model, X_train_scaled, y_train,n_repeats=30,random_state=42)\n",
    "\n",
    "# Loop through the importances and append to the list you created above\n",
    "# (optional: print out the feature names and importances as you loop)\n",
    "for idx in r.importances_mean.argsort()[::-1]:\n",
    "    train_value_list.append(data.feature_names[idx])\n",
    "train_value_list"
   ]
  },
  {
   "cell_type": "code",
   "execution_count": 54,
   "metadata": {},
   "outputs": [
    {
     "data": {
      "text/html": [
       "<div>\n",
       "<style scoped>\n",
       "    .dataframe tbody tr th:only-of-type {\n",
       "        vertical-align: middle;\n",
       "    }\n",
       "\n",
       "    .dataframe tbody tr th {\n",
       "        vertical-align: top;\n",
       "    }\n",
       "\n",
       "    .dataframe thead th {\n",
       "        text-align: right;\n",
       "    }\n",
       "</style>\n",
       "<table border=\"1\" class=\"dataframe\">\n",
       "  <thead>\n",
       "    <tr style=\"text-align: right;\">\n",
       "      <th></th>\n",
       "      <th>xgb</th>\n",
       "      <th>perm_train</th>\n",
       "      <th>perm_val</th>\n",
       "    </tr>\n",
       "  </thead>\n",
       "  <tbody>\n",
       "    <tr>\n",
       "      <th>7</th>\n",
       "      <td>hue</td>\n",
       "      <td>color_intensity</td>\n",
       "      <td>hue</td>\n",
       "    </tr>\n",
       "    <tr>\n",
       "      <th>2</th>\n",
       "      <td>alcalinity_of_ash</td>\n",
       "      <td>flavanoids</td>\n",
       "      <td>alcalinity_of_ash</td>\n",
       "    </tr>\n",
       "    <tr>\n",
       "      <th>4</th>\n",
       "      <td>flavanoids</td>\n",
       "      <td>hue</td>\n",
       "      <td>flavanoids</td>\n",
       "    </tr>\n",
       "    <tr>\n",
       "      <th>6</th>\n",
       "      <td>color_intensity</td>\n",
       "      <td>alcalinity_of_ash</td>\n",
       "      <td>color_intensity</td>\n",
       "    </tr>\n",
       "    <tr>\n",
       "      <th>8</th>\n",
       "      <td>od280/od315_of_diluted_wines</td>\n",
       "      <td>proline</td>\n",
       "      <td>od280/od315_of_diluted_wines</td>\n",
       "    </tr>\n",
       "  </tbody>\n",
       "</table>\n",
       "</div>"
      ],
      "text/plain": [
       "                            xgb         perm_train  \\\n",
       "7                           hue    color_intensity   \n",
       "2             alcalinity_of_ash         flavanoids   \n",
       "4                    flavanoids                hue   \n",
       "6               color_intensity  alcalinity_of_ash   \n",
       "8  od280/od315_of_diluted_wines            proline   \n",
       "\n",
       "                       perm_val  \n",
       "7                           hue  \n",
       "2             alcalinity_of_ash  \n",
       "4                    flavanoids  \n",
       "6               color_intensity  \n",
       "8  od280/od315_of_diluted_wines  "
      ]
     },
     "execution_count": 54,
     "metadata": {},
     "output_type": "execute_result"
    }
   ],
   "source": [
    "# For an easier way to compare the importances in order. . .\n",
    "# Put the results of the three methods into a data frame\n",
    "# Create an empty data frame\n",
    "df_importances = pd.DataFrame()\n",
    "# Add the top five features from the xgb built-in method\n",
    "df_importances['xgb'] = df_import['features'].head()\n",
    "# Add the top five features from sklearn permutation importance on train data\n",
    "df_importances['perm_train'] = train_value_list[:5]\n",
    "# Add the top five features from sklearn permutation importance on validation data\n",
    "df_importances['perm_val'] = val_value_list[:5]\n",
    "# View the data frame\n",
    "df_importances.head()"
   ]
  },
  {
   "cell_type": "markdown",
   "metadata": {},
   "source": [
    ">We can compare the feature between each columns to get a more accurate sense of the features that are important to the training model"
   ]
  },
  {
   "cell_type": "code",
   "execution_count": null,
   "metadata": {},
   "outputs": [],
   "source": []
  }
 ],
 "metadata": {
  "environment": {
   "name": "tf2-gpu.2-3.m65",
   "type": "gcloud",
   "uri": "gcr.io/deeplearning-platform-release/tf2-gpu.2-3:m65"
  },
  "kernelspec": {
   "display_name": "Python 3",
   "language": "python",
   "name": "python3"
  },
  "language_info": {
   "codemirror_mode": {
    "name": "ipython",
    "version": 3
   },
   "file_extension": ".py",
   "mimetype": "text/x-python",
   "name": "python",
   "nbconvert_exporter": "python",
   "pygments_lexer": "ipython3",
   "version": "3.8.10"
  }
 },
 "nbformat": 4,
 "nbformat_minor": 4
}
